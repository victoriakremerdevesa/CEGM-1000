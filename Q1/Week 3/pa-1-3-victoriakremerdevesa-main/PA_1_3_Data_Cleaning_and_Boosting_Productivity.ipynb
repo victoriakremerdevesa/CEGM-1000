{
 "cells": [
  {
   "cell_type": "markdown",
   "id": "d14e9d93",
   "metadata": {},
   "source": [
    "# PA 1.3: Data Cleaning and Boosting Productivity\n",
    "\n",
    "<h1 style=\"position: absolute; display: flex; flex-grow: 0; flex-shrink: 0; flex-direction: row-reverse; top: 60px;right: 30px; margin: 0; border: 0\">\n",
    "    <style>\n",
    "        .markdown {width:100%; position: relative}\n",
    "        article { position: relative }\n",
    "    </style>\n",
    "    <img src=\"https://gitlab.tudelft.nl/mude/public/-/raw/main/tu-logo/TU_P1_full-color.png\" style=\"width:100px; height: auto; margin: 0\" />\n",
    "    <img src=\"https://gitlab.tudelft.nl/mude/public/-/raw/main/mude-logo/MUDE_Logo-small.png\" style=\"width:100px; height: auto; margin: 0\" />\n",
    "</h1>\n",
    "<h2 style=\"height: 10px\">\n",
    "</h2>\n",
    "\n",
    "*[CEGM1000 MUDE](http://mude.citg.tudelft.nl/): Week 1.3. Due: before Friday, Sep 20, 2023.*"
   ]
  },
  {
   "cell_type": "markdown",
   "id": "f5a4caf7",
   "metadata": {},
   "source": [
    "This notebook consists of two parts:\n",
    "\n",
    "1. Data Cleaning, with task 1.1 - 2.6\n",
    "2. Boosting Productivity, with task 3.1 - 3.10\n",
    "\n",
    "**Remember that there is a survey that must be completed to pass this PA.**\n",
    "\n",
    "[Here is a link to the survey](https://forms.office.com/e/saRwPUyL8d)."
   ]
  },
  {
   "cell_type": "markdown",
   "id": "0b0a42bb",
   "metadata": {},
   "source": [
    "## Data cleaning\n",
    "\n",
    "Often we get data in a file that contains unexpected and odd things inside. If not removed in a proper way, they can cause problems in our analysis. For example, NaNs, infinite values, or just really large outliers may cause things in our code to behave in an unexpected way. It is good practice to **get in the habit of visualizing and processing datasets before you start using them!** This programming assignment will illustrate this process.\n",
    "\n",
    "Topics in this assignment includes two tasks: \n",
    "1. Finding \"odd\" values in an array and removing them\n",
    "2. Using plots to identify other \"oddities\" that can be removed\n",
    "\n",
    "We will need one csv file, `data_2.csv`, to complete this assignment."
   ]
  },
  {
   "cell_type": "code",
   "execution_count": null,
   "id": "a74df1db",
   "metadata": {},
   "outputs": [],
   "source": [
    "\n",
    "\n",
    "\n"
   ]
  },
  {
   "cell_type": "code",
   "execution_count": 1,
   "id": "846ae254",
   "metadata": {},
   "outputs": [],
   "source": [
    "# use the mude-base environment\n",
    "\n",
    "import numpy as np\n",
    "import matplotlib.pyplot as plt\n",
    "import scipy.stats as sci\n",
    "import scipy.optimize as opt"
   ]
  },
  {
   "cell_type": "markdown",
   "id": "78611f77",
   "metadata": {},
   "source": [
    "### Task 1: Importing and Cleaning the array\n",
    "\n",
    "In a previous week we looked at how to read in data from a csv, plot a nice graph and even find the $R^2$ of the data. This week an eager botany student, Johnathan, has asked us to help him analyze some data: 1000 measurements have just been completed over the 100m of greenhouse and are ready to use in `data_2.csv`. Johnathan happens to have a lot of free time but not that much experience taking measurements. Thus, there is some noise in the data and some problematic data that are a result of an error in the measurement device. Let's help them out!"
   ]
  },
  {
   "cell_type": "markdown",
   "id": "431f871f",
   "metadata": {},
   "source": [
    "<div style=\"background-color:#AABAB2; color: black; width:95%; vertical-align: middle; padding:15px; margin: 10px; border-radius: 10px\">\n",
    "<p>\n",
    "<b>Task 1.1:</b>   \n",
    "Import the data as 2 numpy arrays: distance and temperature.\n",
    "</p>\n",
    "</div>"
   ]
  },
  {
   "cell_type": "code",
   "execution_count": 2,
   "id": "05110070",
   "metadata": {},
   "outputs": [
    {
     "name": "stdout",
     "output_type": "stream",
     "text": [
      "[  0.      0.1     0.2     0.3     0.4     0.501   0.601   0.701   0.801\n",
      "   0.901   1.      1.1     1.2     1.3     1.4     1.5     1.6     1.7\n",
      "   1.8     1.9     2.      2.1     2.2     2.3     2.4     2.5     2.6\n",
      "   2.7     2.8     2.9     3.      3.1     3.2     3.3     3.4     3.5\n",
      "   3.6     3.7     3.8     3.9     4.      4.1     4.2     4.3     4.4\n",
      "   4.5     4.6     4.7     4.8     4.9     5.01    5.11    5.21    5.31\n",
      "   5.41    5.51    5.61    5.71    5.81    5.91    6.01    6.11    6.21\n",
      "   6.31    6.41    6.51    6.61    6.71    6.81    6.91    7.01    7.11\n",
      "   7.21    7.31    7.41    7.51    7.61    7.71    7.81    7.91    8.01\n",
      "   8.11    8.21    8.31    8.41    8.51    8.61    8.71    8.81    8.91\n",
      "   9.01    9.11    9.21    9.31    9.41    9.51    9.61    9.71    9.81\n",
      "   9.91   10.     10.1    10.2    10.3    10.4    10.5    10.6    10.7\n",
      "  10.8    10.9    11.     11.1    11.2    11.3    11.4    11.5    11.6\n",
      "  11.7    11.8    11.9    12.     12.1    12.2    12.3    12.4    12.5\n",
      "  12.6    12.7    12.8    12.9    13.     13.1    13.2    13.3    13.4\n",
      "  13.5    13.6    13.7    13.8    13.9    14.     14.1    14.2    14.3\n",
      "  14.4    14.5    14.6    14.7    14.8    14.9    15.     15.1    15.2\n",
      "  15.3    15.4    15.5    15.6    15.7    15.8    15.9    16.     16.1\n",
      "  16.2    16.3    16.4    16.5    16.6    16.7    16.8    16.9    17.\n",
      "  17.1    17.2    17.3    17.4    17.5    17.6    17.7    17.8    17.9\n",
      "  18.     18.1    18.2    18.3    18.4    18.5    18.6    18.7    18.8\n",
      "  18.9    19.     19.1    19.2    19.3    19.4    19.5    19.6    19.7\n",
      "  19.8    19.9    20.     20.1    20.2    20.3    20.4    20.5    20.6\n",
      "  20.7    20.8    20.9    21.     21.1    21.2    21.3    21.4    21.5\n",
      "  21.6    21.7    21.8    21.9    22.     22.1    22.2    22.3    22.4\n",
      "  22.5    22.6    22.7    22.8    22.9    23.     23.1    23.2    23.3\n",
      "  23.4    23.5    23.6    23.7    23.8    23.9    24.     24.1    24.2\n",
      "  24.3    24.4    24.5    24.6    24.7    24.8    24.9    25.     25.1\n",
      "  25.2    25.3    25.4    25.5    25.6    25.7    25.8    25.9    26.\n",
      "  26.1    26.2    26.3    26.4    26.5    26.6    26.7    26.8    26.9\n",
      "  27.     27.1    27.2    27.3    27.4    27.5    27.6    27.7    27.8\n",
      "  27.9    28.     28.1    28.2    28.3    28.4    28.5    28.6    28.7\n",
      "  28.8    28.9    29.     29.1    29.2    29.3    29.4    29.5    29.6\n",
      "  29.7    29.8    29.9    30.     30.1    30.2    30.3    30.4    30.5\n",
      "  30.6    30.7    30.8    30.9    31.     31.1    31.2    31.3    31.4\n",
      "  31.5    31.6    31.7    31.8    31.9    32.     32.1    32.2    32.3\n",
      "  32.4    32.5    32.6    32.7    32.8    32.9    33.     33.1    33.2\n",
      "  33.3    33.4    33.5    33.6    33.7    33.8    33.9    34.     34.1\n",
      "  34.2    34.3    34.4    34.5    34.6    34.7    34.8    34.9    35.\n",
      "  35.1    35.2    35.3    35.4    35.5    35.6    35.7    35.8    35.9\n",
      "  36.     36.1    36.2    36.3    36.4    36.5    36.6    36.7    36.8\n",
      "  36.9    37.     37.1    37.2    37.3    37.4    37.5    37.6    37.7\n",
      "  37.8    37.9    38.     38.1    38.2    38.3    38.4    38.5    38.6\n",
      "  38.7    38.8    38.9    39.     39.1    39.2    39.3    39.4    39.5\n",
      "  39.6    39.7    39.8    39.9    40.     40.1    40.2    40.3    40.4\n",
      "  40.5    40.6    40.7    40.8    40.9    41.     41.1    41.2    41.3\n",
      "  41.4    41.5    41.6    41.7    41.8    41.9    42.     42.1    42.2\n",
      "  42.3    42.4    42.5    42.6    42.7    42.8    42.9    43.     43.1\n",
      "  43.2    43.3    43.4    43.5    43.6    43.7    43.8    43.9    44.\n",
      "  44.1    44.2    44.3    44.4    44.5    44.6    44.7    44.8    44.9\n",
      "  45.     45.1    45.2    45.3    45.4    45.5    45.6    45.7    45.8\n",
      "  45.9    46.     46.1    46.2    46.3    46.4    46.5    46.6    46.7\n",
      "  46.8    46.9    47.     47.1    47.2    47.3    47.4    47.5    47.6\n",
      "  47.7    47.8    47.9    48.     48.1    48.2    48.3    48.4    48.5\n",
      "  48.6    48.7    48.8    48.9    49.     49.1    49.2    49.3    49.4\n",
      "  49.5    49.6    49.7    49.8    49.9    50.1    50.2    50.3    50.4\n",
      "  50.5    50.6    50.7    50.8    50.9    51.     51.1    51.2    51.3\n",
      "  51.4    51.5    51.6    51.7    51.8    51.9    52.     52.1    52.2\n",
      "  52.3    52.4    52.5    52.6    52.7    52.8    52.9    53.     53.1\n",
      "  53.2    53.3    53.4    53.5    53.6    53.7    53.8    53.9    54.\n",
      "  54.1    54.2    54.3    54.4    54.5    54.6    54.7    54.8    54.9\n",
      "  55.     55.1    55.2    55.3    55.4    55.5    55.6    55.7    55.8\n",
      "  55.9    56.     56.1    56.2    56.3    56.4    56.5    56.6    56.7\n",
      "  56.8    56.9    57.     57.1    57.2    57.3    57.4    57.5    57.6\n",
      "  57.7    57.8    57.9    58.     58.1    58.2    58.3    58.4    58.5\n",
      "  58.6    58.7    58.8    58.9    59.     59.1    59.2    59.3    59.4\n",
      "  59.5    59.6    59.7    59.8    59.9    60.     60.1    60.2    60.3\n",
      "  60.4    60.5    60.6    60.7    60.8    60.9    61.     61.1    61.2\n",
      "  61.3    61.4    61.5    61.6    61.7    61.8    61.9    62.     62.1\n",
      "  62.2    62.3    62.4    62.5    62.6    62.7    62.8    62.9    63.\n",
      "  63.1    63.2    63.3    63.4    63.5    63.6    63.7    63.8    63.9\n",
      "  64.     64.1    64.2    64.3    64.4    64.5    64.6    64.7    64.8\n",
      "  64.9    65.     65.1    65.2    65.3    65.4    65.5    65.6    65.7\n",
      "  65.8    65.9    66.     66.1    66.2    66.3    66.4    66.5    66.6\n",
      "  66.7    66.8    66.9    67.     67.1    67.2    67.3    67.4    67.5\n",
      "  67.6    67.7    67.8    67.9    68.     68.1    68.2    68.3    68.4\n",
      "  68.5    68.6    68.7    68.8    68.9    69.     69.1    69.2    69.3\n",
      "  69.4    69.5    69.6    69.7    69.8    69.9    70.     70.1    70.2\n",
      "  70.3    70.4    70.5    70.6    70.7    70.8    70.9    71.     71.1\n",
      "  71.2    71.3    71.4    71.5    71.6    71.7    71.8    71.9    72.\n",
      "  72.1    72.2    72.3    72.4    72.5    72.6    72.7    72.8    72.9\n",
      "  73.     73.1    73.2    73.3    73.4    73.5    73.6    73.7    73.8\n",
      "  73.9    74.     74.1    74.2    74.3    74.4    74.5    74.6    74.7\n",
      "  74.8    74.9    75.     75.1    75.2    75.3    75.4    75.5    75.6\n",
      "  75.7    75.8    75.9    76.     76.1    76.2    76.3    76.4    76.5\n",
      "  76.6    76.7    76.8    76.9    77.     77.1    77.2    77.3    77.4\n",
      "  77.5    77.6    77.7    77.8    77.9    78.     78.1    78.2    78.3\n",
      "  78.4    78.5    78.6    78.7    78.8    78.9    79.     79.1    79.2\n",
      "  79.3    79.4    79.5    79.6    79.7    79.8    79.9    80.     80.1\n",
      "  80.2    80.3    80.4    80.5    80.6    80.7    80.8    80.9    81.\n",
      "  81.1    81.2    81.3    81.4    81.5    81.6    81.7    81.8    81.9\n",
      "  82.     82.1    82.2    82.3    82.4    82.5    82.6    82.7    82.8\n",
      "  82.9    83.     83.1    83.2    83.3    83.4    83.5    83.6    83.7\n",
      "  83.8    83.9    84.     84.1    84.2    84.3    84.4    84.5    84.6\n",
      "  84.7    84.8    84.9    85.     85.1    85.2    85.3    85.4    85.5\n",
      "  85.6    85.7    85.8    85.9    86.     86.1    86.2    86.3    86.4\n",
      "  86.5    86.6    86.7    86.8    86.9    87.     87.1    87.2    87.3\n",
      "  87.4    87.5    87.6    87.7    87.8    87.9    88.     88.1    88.2\n",
      "  88.3    88.4    88.5    88.6    88.7    88.8    88.9    89.     89.1\n",
      "  89.2    89.3    89.4    89.5    89.6    89.7    89.8    89.9    90.\n",
      "  90.1    90.2    90.3    90.4    90.5    90.6    90.7    90.8    90.9\n",
      "  91.     91.1    91.2    91.3    91.4    91.5    91.6    91.7    91.8\n",
      "  91.9    92.     92.1    92.2    92.3    92.4    92.5    92.6    92.7\n",
      "  92.8    92.9    93.     93.1    93.2    93.3    93.4    93.5    93.6\n",
      "  93.7    93.8    93.9    94.     94.1    94.2    94.3    94.4    94.5\n",
      "  94.6    94.7    94.8    94.9    95.     95.1    95.2    95.3    95.4\n",
      "  95.5    95.6    95.7    95.8    95.9    96.     96.1    96.2    96.3\n",
      "  96.4    96.5    96.6    96.7    96.8    96.9    97.     97.1    97.2\n",
      "  97.3    97.4    97.5    97.6    97.7    97.8    97.9    98.     98.1\n",
      "  98.2    98.3    98.4    98.5    98.6    98.7    98.8    98.9    99.\n",
      "  99.1    99.2    99.3    99.4    99.5    99.6    99.7    99.8    99.9\n",
      " 100.   ]\n",
      "[  20.4    13.71   21.32   19.43   20.54   22.95   24.46   21.67   20.98\n",
      "   12.49   15.5    21.91   16.72   19.03   23.34   23.85   22.66   19.57\n",
      "   19.68   21.09   16.8    21.31   12.72   22.73   18.64   18.35   23.16\n",
      "   23.77   15.28   21.59   17.5    19.81   19.92   19.23   20.64   23.05\n",
      "   16.16   16.67   20.18   20.79   23.3    24.31   14.02   55.43   20.74\n",
      "   19.85   21.26   22.57   14.88   19.69   19.4    23.41   18.72   19.03\n",
      "   19.24   27.35   25.66   21.77   21.48   21.59   25.9    20.91   25.62\n",
      "   20.53   18.94   24.25   17.76   21.37   20.28   15.89   13.4    19.71\n",
      "   26.32   26.03    0.     20.55   23.56   21.67   25.08   20.49   25.4\n",
      "   24.11   14.52   17.03   23.64   23.55   25.86   18.67   21.48   19.39\n",
      "   18.9    18.01   22.22   26.33   23.54   23.05   18.06   20.37   20.08\n",
      "   24.09   21.6    26.11   21.62   26.23   18.14   22.75   22.16   24.87\n",
      "   18.18   23.79   20.6    25.51   21.92   17.23   21.84   19.85   17.86\n",
      "   20.17   26.18   20.99     nan  999.     21.42   24.43   16.94   24.85\n",
      "   23.56   21.67   21.88   20.99   23.2    21.51   26.02   21.43   28.14\n",
      "   21.05   18.56   22.17   24.08   22.39   22.5    18.21   21.02   22.73\n",
      "   22.84   23.45   25.16   22.57   21.18   22.39   30.3    19.21   24.22\n",
      "   20.43   22.54   23.45   21.46   25.07   20.08   27.09   19.3    21.71\n",
      "   24.62   18.83   19.24   19.85   26.66   26.07   21.68   18.69   23.4\n",
      "   20.01   23.42   14.03   16.14   18.55   20.16   18.57   20.28   21.69\n",
      "   24.4    19.11   24.62   18.83   18.94   19.55   21.46   16.17   28.18\n",
      "   28.89   24.6    21.71   54.92   19.83   20.34   19.05   25.76   16.27\n",
      "   22.78   23.59   24.3    19.61   21.22   20.13  999.   -999.     20.66\n",
      "   18.97   23.78   17.69   21.9    24.11   21.82   25.33   18.44   22.85\n",
      "   28.06   22.37   18.18   24.89   21.     26.21   26.52   24.13   26.84\n",
      "   22.55   20.76   23.77   20.68   19.99   23.1    26.11   23.72   20.93\n",
      "   19.84   25.35   26.06   17.57   19.38   21.39   21.5    25.71   21.12\n",
      "   26.63   21.94   24.45   24.06   22.37   21.68   23.09   19.7    21.41\n",
      "   23.32   25.43   20.64   27.05   16.16   26.67   21.98   21.59   22.9\n",
      "   26.61   24.62   23.23   20.54   26.95   24.46   31.17   21.88   18.79\n",
      "   24.     19.71   18.32   22.13   23.64   26.15   23.36   26.47   17.58\n",
      "   22.79   21.3    19.21   28.72   27.83   21.84   21.75   21.06   16.67\n",
      "   24.38   24.59   16.9    24.11   22.72   22.73   26.14   24.45   26.26\n",
      "   19.67   21.68   20.59   27.2    17.01   21.62   29.53   21.24   20.25\n",
      "   26.66   24.67   21.98   25.09   18.9    21.21   21.22   25.03   18.74\n",
      "   20.75   21.16   19.57   24.38   24.69   22.7    21.31    0.     21.23\n",
      "   24.44   20.45   23.26   21.07   23.88   23.29   24.5    25.61   23.72\n",
      "   23.33   24.34   26.65   28.56   20.77   21.28   23.69   19.2    23.81\n",
      "   30.12   23.53   20.44   24.15   21.66   19.67   26.88   21.29   19.8\n",
      "   25.71   19.72   22.83   28.14   24.45   25.46   18.17   31.88   24.39\n",
      "   20.     25.81   21.72   25.13   24.24   20.75   16.06   25.67   20.98\n",
      "   22.89   23.1    23.61   23.62   24.83   26.14   25.15   20.86   28.07\n",
      "   23.98   21.89   20.7    26.01   19.62   22.23   23.94   25.45   29.56\n",
      "   22.27   21.68   20.59   26.9    23.51   26.02   20.63   20.64   24.75\n",
      "   25.26   25.27   18.88   24.49   22.7      nan   20.92   25.63   25.54\n",
      "   29.85   23.86   21.37   27.38   20.69   27.     31.11   24.62   21.83\n",
      "   29.04   23.85   18.26   25.47   22.58   24.39   23.8    26.01   21.22\n",
      "   28.33   22.04   21.15   21.16   27.07   27.68   21.09   26.3    23.21\n",
      "   28.52   25.83   19.34   18.85   24.66   29.97   27.38   26.19   21.2\n",
      "   25.61   23.62   24.83   23.14   24.65   18.76   26.97   19.48   24.19\n",
      "   29.2    21.71   30.22   25.53   23.24   24.85   21.26   25.97   26.58\n",
      "   23.59   32.7    29.11   27.22   24.43   21.74   24.25   26.46   28.37\n",
      "   25.28   24.19   22.4    26.71   26.02   28.23   24.74   21.75   24.46\n",
      "   21.17   28.98   24.19   25.4    25.21   23.82   21.93   24.64   28.05\n",
      "   24.86   21.27   30.68   21.69   28.8    27.71   22.92   25.13   27.34\n",
      "   20.95   23.56   20.17   20.48   24.69   28.11   27.32   29.03   27.54\n",
      "   27.65   23.46   29.37   19.68   25.09   29.1    28.21   29.42   20.63\n",
      "   27.24   20.25   22.26   26.37   24.28   19.59   21.6    26.91   23.02\n",
      "   25.63   23.74   19.75   28.56   29.07   24.18   18.39   25.6    25.61\n",
      "   19.42   32.03   26.64   24.85   23.16   26.17   29.88   28.49   23.9\n",
      "   22.91   29.22   26.03   23.94   26.25   28.46   28.47   27.28   24.19\n",
      "   21.6    26.41   25.42   23.03   24.34   21.95   22.76   27.67   22.98\n",
      "   24.59   22.9    26.61   20.62   27.33   28.64   20.35   28.86   27.67\n",
      "   23.98   22.99   22.     27.31   24.22   29.43   20.64   22.65   24.36\n",
      "   21.97   22.48   27.19   26.6    24.31   23.02   18.33   27.54   26.15\n",
      "   24.26   21.77   23.48   24.59   21.1    26.81   18.42   22.63   25.64\n",
      "   28.65   26.36   25.07   23.98   30.89   31.9    26.01   22.62   26.63\n",
      "   26.64   25.65   28.96   21.87   25.68   28.99   30.     27.91   30.02\n",
      "   27.23   24.94   25.15   28.36   25.67   25.78   33.69   26.9    24.01\n",
      "     nan   23.33   25.44   25.65   29.36   25.37   22.68   21.29   27.5\n",
      "   24.91   31.22   31.43   29.14   26.35   32.66   25.07   28.48   21.19\n",
      "   30.3    23.91   23.52   22.63   26.14   29.65   25.46   28.27   26.08\n",
      "   28.09   22.6    30.21   23.52   22.33   23.64   28.85   24.16   29.27\n",
      "   23.68   25.59   23.1    31.91   21.82   26.03   29.74   21.85   29.96\n",
      "   24.07   27.58   27.29   23.9    26.21   29.92   29.93   29.94   29.75\n",
      "   29.76   25.57   27.48   28.29   24.5    27.31   28.42   33.43   27.64\n",
      "   27.55   27.46   27.97   24.98   28.19   26.3    24.81   27.72   23.93\n",
      "   23.64   25.95   26.26   31.87   27.58   27.69   29.     24.91   29.92\n",
      "   28.73   30.14   25.95   29.76   31.57   23.18   31.29   25.3    29.41\n",
      "   21.92   25.33   30.04   36.25   22.36   26.27   24.88   31.29   24.5\n",
      "   31.61   27.32   29.73   30.74   28.65   21.16   30.17   28.08   28.79\n",
      "   24.5    28.51   30.92   33.93   31.74   27.15   30.26   30.57   29.58\n",
      "   31.99   31.5    35.91   27.82   23.93   28.54   24.45   32.76   30.87\n",
      "   31.08   26.59   28.4    28.11   31.52   27.73   29.24   29.05   25.16\n",
      "   29.17   31.68   23.79   28.1    25.01   25.72   29.13   29.54   26.35\n",
      "   28.86   27.67   26.38   30.19   31.5    25.21   28.42   26.03   25.94\n",
      "   23.65   26.86   27.57   28.18   26.79   27.7    29.01   30.52   30.13\n",
      "   30.94   24.35   27.36   23.67   28.28   33.39   28.7    24.71   26.92\n",
      "   29.83   31.14   27.45   26.16   27.97   23.18   27.79   30.4    31.71\n",
      "   30.32   27.63   27.54   27.15   27.26   28.27   24.48   29.09   30.3\n",
      "   28.81   28.42   25.03   23.64   24.65   27.96   30.57   31.98   26.09\n",
      "   27.4    25.91   26.42   25.93   31.04   27.95   32.76   30.37   26.68\n",
      "   26.79   28.4    30.31   27.92   27.53   32.54   25.25   35.46   30.87\n",
      "   29.38   29.39   31.     21.01   24.72   31.63   24.24   24.55   30.06\n",
      "   28.37   29.68   28.59   34.4    27.81   24.92   21.63   26.14   27.05\n",
      "   26.46   31.57   29.18   31.29   25.9    27.11   22.72   32.43   32.34\n",
      "   27.65   28.46   30.37   27.08   29.59   31.8    28.71   22.12   25.43\n",
      "   29.54   30.05   39.76   27.47   28.88   23.79   29.3    33.41   32.52\n",
      "   29.33   30.74   30.55   24.36   26.97   27.08   28.89   27.2    35.91\n",
      "   27.12   25.53   27.54   24.85   34.16   29.27   24.78   33.29   26.6\n",
      "   29.71   24.72   30.13   28.34   25.95   29.86   30.57   28.68   31.49\n",
      "   30.1    26.71   27.32   25.13   29.04   30.55   32.76   30.57   31.58\n",
      "   29.09   27.5    25.61   28.32   23.93   26.74   26.95   26.36   29.67\n",
      "   30.78   29.19   30.2    30.61   23.42   32.83   28.84   31.65   31.26\n",
      "   28.37   29.68   28.89   30.8    31.91   24.92   28.43   30.34   32.45\n",
      "   24.56   26.97   29.08   26.99   31.1    27.61   24.32   30.73   29.14\n",
      "   32.65   29.36   27.67   33.38   27.19   26.1    33.51   31.02   30.53\n",
      "   24.54   28.95   29.86   32.77   32.48   30.79   29.9    28.71   25.12\n",
      "   28.43   31.44   29.35   25.56   30.07   31.38   33.09   30.7    27.11\n",
      "   30.92   30.13   33.74   31.95   29.76   31.27   28.88   33.49   29.\n",
      "   27.91   30.22   24.53   25.54 -999.   -999.     35.37   32.28   29.39\n",
      "   29.7 ]\n"
     ]
    }
   ],
   "source": [
    "\n",
    "data = np.loadtxt('data_2.csv', dtype=str, delimiter=',', skiprows=1)\n",
    "\n",
    "distance, temperature = data[:,0], data[:,1]\n",
    "def is_number(s):\n",
    "    try: \n",
    "        float(s)\n",
    "        return True\n",
    "    except ValueError:\n",
    "        return False\n",
    "temperature = np.array([float(val)if is_number(val) else np.nan for val in temperature])\n",
    "distance=distance.astype(float)\n",
    "print(distance)\n",
    "print(temperature)\n"
   ]
  },
  {
   "cell_type": "markdown",
   "id": "006eea78",
   "metadata": {},
   "source": [
    "<div style=\"background-color:#AABAB2; color: black; width:95%; vertical-align: middle; padding:15px; margin: 10px; border-radius: 10px\">\n",
    "<p>\n",
    "<b>Task 1.2:</b>   \n",
    "In the code cell below, evaluate the size of the array.\n",
    "</p>\n",
    "</div>"
   ]
  },
  {
   "cell_type": "code",
   "execution_count": 3,
   "id": "6b4ca75e",
   "metadata": {},
   "outputs": [
    {
     "data": {
      "text/plain": [
       "1000"
      ]
     },
     "execution_count": 3,
     "metadata": {},
     "output_type": "execute_result"
    }
   ],
   "source": [
    "distance.size\n",
    "temperature.size\n"
   ]
  },
  {
   "cell_type": "markdown",
   "id": "fde15a07",
   "metadata": {},
   "source": [
    "<div style=\"background-color:#AABAB2; color: black; width:95%; vertical-align: middle; padding:15px; margin: 10px; border-radius: 10px\">\n",
    "<p>\n",
    "<b>Task 1.3:</b>   \n",
    " Check by defining a variable <code>boolean</code> using the numpy method <code>isnan</code>, which returns a boolean vector (False if it is not a NaN, and True if it is a NaN). The code block below will also help you inspect the results.\n",
    "</p>\n",
    "</div>"
   ]
  },
  {
   "cell_type": "code",
   "execution_count": 4,
   "id": "f830b4ad",
   "metadata": {},
   "outputs": [
    {
     "name": "stdout",
     "output_type": "stream",
     "text": [
      "The first 10 values are: [False False False False False False False False False False]\n",
      "There are 3 NaNs in array temperature\n"
     ]
    }
   ],
   "source": [
    "boolean = np.isnan(temperature)\n",
    "\n",
    "print(\"The first 10 values are:\", boolean[0:10])\n",
    "print(f\"There are {boolean.sum()} NaNs in array temperature\")\n"
   ]
  },
  {
   "cell_type": "markdown",
   "id": "c9f8994b",
   "metadata": {},
   "source": [
    "Let's slice the array using the `boolean` array we just found to eliminate the NaNs. We can use the symbol `~`, which denotes the opposite: we want to keep those where np.isnan gives False as an answer."
   ]
  },
  {
   "cell_type": "code",
   "execution_count": 5,
   "id": "6850cb15",
   "metadata": {},
   "outputs": [],
   "source": [
    "temperature = temperature[~boolean]"
   ]
  },
  {
   "cell_type": "markdown",
   "id": "4882620e",
   "metadata": {},
   "source": [
    "<div style=\"background-color:#AABAB2; color: black; width:95%; vertical-align: middle; padding:15px; margin: 10px; border-radius: 10px\">\n",
    "<p>\n",
    "<b>Task 1.4:</b>   \n",
    "Check the size again, and make sure you recognize that we over-wrote the variable `temperature`. This will have an impact on other cells where you use this variable, for example, if you re-run the cell below Task 1.3, the result will be different, because the array contents have changed!\n",
    "\n",
    "How big is the array now? How many values were removed?\n",
    "</p>\n",
    "</div>"
   ]
  },
  {
   "cell_type": "code",
   "execution_count": 6,
   "id": "1a111476",
   "metadata": {},
   "outputs": [
    {
     "data": {
      "text/plain": [
       "997"
      ]
     },
     "execution_count": 6,
     "metadata": {},
     "output_type": "execute_result"
    }
   ],
   "source": [
    "temperature.size"
   ]
  },
  {
   "cell_type": "markdown",
   "id": "94771b6e",
   "metadata": {},
   "source": [
    "But now we have a problem: our `distance` array still has the entries that correspond to the bad entries in `temperature`. We can see that the dimensions of the arrays no longer match:"
   ]
  },
  {
   "cell_type": "code",
   "execution_count": 7,
   "id": "ade77e1b",
   "metadata": {},
   "outputs": [
    {
     "data": {
      "text/plain": [
       "False"
      ]
     },
     "execution_count": 7,
     "metadata": {},
     "output_type": "execute_result"
    }
   ],
   "source": [
    "distance.size==temperature.size"
   ]
  },
  {
   "cell_type": "markdown",
   "id": "8a80b2d6",
   "metadata": {},
   "source": [
    "Also, we don't know what the index of the removed values were, since we over-wrote `temperature`! Luckily we have our `boolean` array, which records the indices with Nans, which we can also use to update our `distance` array."
   ]
  },
  {
   "cell_type": "markdown",
   "id": "7b1fac3b",
   "metadata": {},
   "source": [
    "<div style=\"background-color:#AABAB2; color: black; width:95%; vertical-align: middle; padding:15px; margin: 10px; border-radius: 10px\">\n",
    "<p>\n",
    "<b>Task 1.5:</b>   \n",
    "Use the boolean array from Task 1.3 to remove the matching entries in the distance array, then check that it has the same length as temperature.\n",
    "</p>\n",
    "</div>"
   ]
  },
  {
   "cell_type": "code",
   "execution_count": 8,
   "id": "359c1f5a",
   "metadata": {},
   "outputs": [
    {
     "data": {
      "text/plain": [
       "True"
      ]
     },
     "execution_count": 8,
     "metadata": {},
     "output_type": "execute_result"
    }
   ],
   "source": [
    "boolean = ~np.isnan(temperature)\n",
    "distance = distance[:boolean.sum()]\n",
    "distance.size==temperature.size\n",
    "#DO NOT KNOW IF I DID THIS RIGHT "
   ]
  },
  {
   "cell_type": "markdown",
   "id": "3c494a0b",
   "metadata": {},
   "source": [
    "### Task 2: Visualizing the Dataset\n",
    "\n",
    "Now we can plot the temperature with distance to see what it looks like."
   ]
  },
  {
   "cell_type": "code",
   "execution_count": 9,
   "id": "3ea30aa1",
   "metadata": {},
   "outputs": [
    {
     "data": {
      "image/png": "[encoded data removed]",
      "text/plain": [
       "<Figure size 640x480 with 1 Axes>"
      ]
     },
     "metadata": {},
     "output_type": "display_data"
    }
   ],
   "source": [
    "plt.plot(distance, temperature, \"ok\", label = 'Temperature')\n",
    "plt.title(\"Super duper greenhouse\")\n",
    "plt.xlabel('Distance')\n",
    "plt.ylabel('Temperature')\n",
    "plt.show()"
   ]
  },
  {
   "cell_type": "markdown",
   "id": "a90e8b18",
   "metadata": {},
   "source": [
    "It looks like there are some outliers in the dataset still! Let's investigate:"
   ]
  },
  {
   "cell_type": "code",
   "execution_count": 10,
   "id": "e05bdc36",
   "metadata": {},
   "outputs": [
    {
     "name": "stdout",
     "output_type": "stream",
     "text": [
      "-999.0\n",
      "999.0\n"
     ]
    }
   ],
   "source": [
    "print(temperature.min())\n",
    "print(temperature.max())"
   ]
  },
  {
   "cell_type": "markdown",
   "id": "9e8d396a",
   "metadata": {},
   "source": [
    "The values are suspcious since they are +/-999...this is a common error code with some sensors, so we can assume that they can be removed from the dataset. We can easily remove these erroneous values of temperature, but this time we will use a different method than before. The explamation mark before an equals sig, `!=`, denotes \"not equal to.\" We can use this as a logic operator to directly eliminate the values in one line. For example:\n",
    "```\n",
    "array_1 = array_1[array_2!=-999]\n",
    "```"
   ]
  },
  {
   "cell_type": "markdown",
   "id": "33755648",
   "metadata": {},
   "source": [
    "<div style=\"background-color:#AABAB2; color: black; width:95%; vertical-align: middle; padding:15px; margin: 10px; border-radius: 10px\">\n",
    "<p>\n",
    "<b>Task 2.1:</b>   \n",
    "Use the \"not equal to\" operator to re-define temperature and distance such that all the temperatures with -999 are removed (don't do the +999 values yet!). Keep in mind that the order of the arrays matters: if you reassign temperature, you won't have the information any more to fix distance!!!\n",
    "</p>\n",
    "</div>"
   ]
  },
  {
   "cell_type": "code",
   "execution_count": 11,
   "id": "760ef4fc",
   "metadata": {},
   "outputs": [
    {
     "name": "stdout",
     "output_type": "stream",
     "text": [
      "0.0\n",
      "0.0\n"
     ]
    }
   ],
   "source": [
    "distance = distance[temperature!=-999]\n",
    "temperature = temperature[temperature!= -999] #DO NOT UNDERSTAND HOW IT GOES \n",
    "\n",
    "print(temperature.min())\n",
    "print(distance.min())"
   ]
  },
  {
   "cell_type": "markdown",
   "id": "62f66295",
   "metadata": {},
   "source": [
    "Are the arrays the same size still? If you did it correctly, they should be."
   ]
  },
  {
   "cell_type": "code",
   "execution_count": 12,
   "id": "c2565d1a",
   "metadata": {},
   "outputs": [
    {
     "name": "stdout",
     "output_type": "stream",
     "text": [
      "True\n"
     ]
    },
    {
     "data": {
      "text/plain": [
       "994"
      ]
     },
     "execution_count": 12,
     "metadata": {},
     "output_type": "execute_result"
    }
   ],
   "source": [
    "print(distance.size==temperature.size)\n",
    "temperature.size"
   ]
  },
  {
   "cell_type": "markdown",
   "id": "7387ef6e",
   "metadata": {},
   "source": [
    "For the +999 values we will use yet another method, a combination of the previous two."
   ]
  },
  {
   "cell_type": "markdown",
   "id": "5c92b030",
   "metadata": {},
   "source": [
    "<div style=\"background-color:#AABAB2; color: black; width:95%; vertical-align: middle; padding:15px; margin: 10px; border-radius: 10px\">\n",
    "<p>\n",
    "<b>Task 2.2:</b>   \n",
    "    Use the not equal to operator <b>and</b> a boolean array to define an array \"mask\" that will help you remove the data corresponding to temperatures with +999.\n",
    "</p>\n",
    "</div>"
   ]
  },
  {
   "cell_type": "markdown",
   "id": "b5aa308b",
   "metadata": {},
   "source": [
    "We can also do it with a boolean for data_y."
   ]
  },
  {
   "cell_type": "code",
   "execution_count": 13,
   "id": "87c3df95",
   "metadata": {},
   "outputs": [],
   "source": [
    "mask = temperature!= +999\n",
    "distance = distance[mask]\n",
    "temperature = temperature[mask]"
   ]
  },
  {
   "cell_type": "markdown",
   "id": "830e00fd",
   "metadata": {},
   "source": [
    "The array is names \"mask\" because this process utilizes **masked arrays**...you can read more about it [here](https://python.plainenglish.io/numpy-masks-in-python-d8c13509fbc8)."
   ]
  },
  {
   "cell_type": "markdown",
   "id": "aaf6c255",
   "metadata": {},
   "source": [
    "Anyway, now that we have removed the annoying +/-999 values, we can finally start to see our dataset more clearly:"
   ]
  },
  {
   "cell_type": "code",
   "execution_count": 14,
   "id": "c4d68786",
   "metadata": {},
   "outputs": [
    {
     "data": {
      "image/png": "[encoded data removed]",
      "text/plain": [
       "<Figure size 640x480 with 1 Axes>"
      ]
     },
     "metadata": {},
     "output_type": "display_data"
    }
   ],
   "source": [
    "plt.plot(distance, temperature, \"ok\", label = 'Temperature')\n",
    "plt.title(\"Super duper greenhouse\")\n",
    "plt.xlabel('Distance')\n",
    "plt.ylabel('Temperature')\n",
    "plt.show()"
   ]
  },
  {
   "cell_type": "markdown",
   "id": "999da984",
   "metadata": {},
   "source": [
    "Looks good! But wait---there also appear to be some values in the array that are not physically possible! We know for sure that there was nothing cold in the greenhouse during the measurements; also it's very likely that a \"0\" value could have come from an error in the sensor.\n",
    "\n",
    "See if you can apply the `numpy` method `nonzero` to remove zeros from the array. Hint: it works in a very similar way to `isnan`, which we used above."
   ]
  },
  {
   "cell_type": "markdown",
   "id": "e0c74257",
   "metadata": {},
   "source": [
    "<div style=\"background-color:#AABAB2; color: black; width:95%; vertical-align: middle; padding:15px; margin: 10px; border-radius: 10px\">\n",
    "<p>\n",
    "<b>Task 2.3:</b>   \n",
    "    Use <code>nonzero</code> to remove the zeros.\n",
    "</p>\n",
    "</div>"
   ]
  },
  {
   "cell_type": "code",
   "execution_count": 15,
   "id": "20c58ef0",
   "metadata": {},
   "outputs": [],
   "source": [
    "distance = distance[np.nonzero(temperature)]\n",
    "temperature = temperature[np.nonzero(temperature)]"
   ]
  },
  {
   "cell_type": "markdown",
   "id": "f6ccca34",
   "metadata": {},
   "source": [
    "It also seems quite obvious that the values above 50 degrees are also not physically possible (or perhaps Jonathan was standing near an oven?!). In any case, they aren't consistent with the rest of the data, so we should remove them."
   ]
  },
  {
   "cell_type": "markdown",
   "id": "ccb300c2",
   "metadata": {},
   "source": [
    "<div style=\"background-color:#AABAB2; color: black; width:95%; vertical-align: middle; padding:15px; margin: 10px; border-radius: 10px\">\n",
    "<p>\n",
    "<b>Task 2.4:</b>   \n",
    "    Use an inequality, <code><</code> to keep all values less than 50.\n",
    "</p>\n",
    "</div>"
   ]
  },
  {
   "cell_type": "code",
   "execution_count": 16,
   "id": "faa439a0",
   "metadata": {},
   "outputs": [],
   "source": [
    "mask_1= temperature < 50\n",
    "distance = distance[mask_1]\n",
    "temperature = temperature[mask_1]"
   ]
  },
  {
   "cell_type": "markdown",
   "id": "cf41837a",
   "metadata": {},
   "source": [
    "Now let's take another look at our data:"
   ]
  },
  {
   "cell_type": "code",
   "execution_count": 17,
   "id": "2bcbdda1",
   "metadata": {},
   "outputs": [
    {
     "data": {
      "image/png": "[encoded data removed]",
      "text/plain": [
       "<Figure size 640x480 with 1 Axes>"
      ]
     },
     "metadata": {},
     "output_type": "display_data"
    }
   ],
   "source": [
    "plt.plot(distance, temperature, \"ok\", label = 'Temperature')\n",
    "plt.title(\"Super duper greenhouse\")\n",
    "plt.xlabel('Distance')\n",
    "plt.ylabel('Temperature')\n",
    "plt.show()"
   ]
  },
  {
   "cell_type": "markdown",
   "id": "30bce92b",
   "metadata": {},
   "source": [
    "Let's pretend there is a systematic error in our measurement device because it was not properly calibrated. It causes all observations below 15 degrees need to be corrected dividing the multiplying the measurement by 1.5. Numpy actually makes it very easy to change the contents of an array conditionally by replacement using the `where` method!"
   ]
  },
  {
   "cell_type": "markdown",
   "id": "81061b72",
   "metadata": {},
   "source": [
    "<div style=\"background-color:#AABAB2; color: black; width:95%; vertical-align: middle; padding:15px; margin: 10px; border-radius: 10px\">\n",
    "<p>\n",
    "<b>Task 2.5:</b>   \n",
    "    Play with the cell below to understand what the <code>where</code> method does (i.e., replacement)---it's very useful to know about!\n",
    "</p>\n",
    "</div>"
   ]
  },
  {
   "cell_type": "code",
   "execution_count": 18,
   "id": "4a20fc63",
   "metadata": {},
   "outputs": [],
   "source": [
    "temperature = np.where(temperature>15, temperature, temperature*1.5)\n"
   ]
  },
  {
   "cell_type": "markdown",
   "id": "2169cd1a",
   "metadata": {},
   "source": [
    "Remember you can investigate the `where` function in a notebook easily by executing `np.where?`. Try it and read the documentation!\n",
    "\n",
    "Let's plot the array again to see what happened (you'll have to compare the two plots carefully to see the difference). Remember, that if you rerun the cell above many times, it will over-write `temperature`, so you will probably need to restart the kernel a few times to reset the values."
   ]
  },
  {
   "cell_type": "code",
   "execution_count": 19,
   "id": "e650f1d3",
   "metadata": {},
   "outputs": [
    {
     "data": {
      "image/png": "[encoded data removed]",
      "text/plain": [
       "<Figure size 640x480 with 1 Axes>"
      ]
     },
     "metadata": {},
     "output_type": "display_data"
    }
   ],
   "source": [
    "plt.plot(distance, temperature, \"ok\", label = 'Temperature')\n",
    "plt.title(\"Super duper greenhouse\")\n",
    "plt.xlabel('Distance')\n",
    "plt.ylabel('Temperature')\n",
    "plt.show()"
   ]
  },
  {
   "cell_type": "markdown",
   "id": "8446e2c6",
   "metadata": {},
   "source": [
    "Now that we are done cleaning the data, let's learn about it. "
   ]
  },
  {
   "cell_type": "markdown",
   "id": "27cf2d39",
   "metadata": {},
   "source": [
    "<div style=\"background-color:#AABAB2; color: black; width:95%; vertical-align: middle; padding:15px; margin: 10px; border-radius: 10px\">\n",
    "<p>\n",
    "<b>Task 2.6:</b>   \n",
    "    Calculate the mean and variance of temperature. Use built-in numpy functions.\n",
    "</p>\n",
    "</div>"
   ]
  },
  {
   "cell_type": "code",
   "execution_count": 20,
   "id": "c833c8fd",
   "metadata": {},
   "outputs": [
    {
     "name": "stdout",
     "output_type": "stream",
     "text": [
      "25.15701923076923\n",
      "16.103195948010747\n"
     ]
    }
   ],
   "source": [
    "mean_temperature = np.mean(temperature)\n",
    "variance_temperature = np.var(temperature)\n",
    "print(mean_temperature)\n",
    "print(variance_temperature)"
   ]
  },
  {
   "cell_type": "markdown",
   "id": "ba022766",
   "metadata": {},
   "source": [
    "## Boosting productivity"
   ]
  },
  {
   "cell_type": "markdown",
   "id": "2df59bce",
   "metadata": {},
   "source": [
    "Did you ever got frustrated by sharing code with your friends? How nice would it be to do it the Google-Docs style and work on the same document simultaneously! Maybe you know Deepnote, which does this in an online interface. But there's a better solution: [Visual Studio Live Share](https://visualstudio.microsoft.com/services/live-share/)!\n",
    "\n",
    "In this PA you'll install the required extension in VS Code. You'll use this extension on Wednesday in class, and can freely use it in your future career!"
   ]
  },
  {
   "cell_type": "markdown",
   "id": "ebc784c9",
   "metadata": {},
   "source": [
    "<div style=\"background-color:#AABAB2; color: black; width:95%; vertical-align: middle; padding:15px; margin: 10px; border-radius: 10px\">\n",
    "<p>\n",
    "<b>Task 3.1:</b>   \n",
    "    Download, install and login in the Visual Studio Live Share Extension from the Visual Studio Marketplace as explained in the <a href=\"https://mude.citg.tudelft.nl/2024/book/external/learn-programming/book/install/ide/vsc/vs_live_share.html\">book</a>\n",
    "</p>\n",
    "</div>"
   ]
  },
  {
   "cell_type": "markdown",
   "id": "2751b89a",
   "metadata": {},
   "source": [
    "After installing and signing into Visual Studio Live Share, you'll share a project with yourself to test the collaboration session"
   ]
  },
  {
   "cell_type": "markdown",
   "id": "3b0f7167",
   "metadata": {},
   "source": [
    "<div style=\"background-color:#AABAB2; color: black; width:95%; vertical-align: middle; padding:15px; margin: 10px; border-radius: 10px\">\n",
    "<p>\n",
    "<b>Task 3.2:</b>   \n",
    "    Use your normal workflow to open a folder\n",
    "</p>\n",
    "</div>"
   ]
  },
  {
   "cell_type": "markdown",
   "id": "dadc8b67",
   "metadata": {},
   "source": [
    "<div style=\"background-color:#AABAB2; color: black; width:95%; vertical-align: middle; padding:15px; margin: 10px; border-radius: 10px\">\n",
    "<p>\n",
    "<b>Task 3.3:</b>   \n",
    "    Start a collaboration session: select <strong>Live Share</strong> on the status bar or select <strong>Ctrl+Shift+P</strong> or <strong>Cmd+Shift+P</strong> and then select <strong>Live Share: Start collaboration session (Share)</strong>.\n",
    "</p>\n",
    "<img src=\"https://learn.microsoft.com/en-us/visualstudio/liveshare/media/install-live-share-visual-studio-code/live-share-button-status-bar.png\" alt=\"Live Share Button\">\n",
    "<p>\n",
    "The first time you share, your desktop firewall software might prompt you to allow the Live Share agent to open a port. Opening a port is optional. It enables a secured direct mode to improve performance when the person you're working with is on the same network as you. For more information, see <a href=\"https://learn.microsoft.com/en-us/visualstudio/liveshare/reference/connectivity#changing-the-connection-mode\">changing the connection mode</a>.\n",
    "</p>\n",
    "</div>"
   ]
  },
  {
   "cell_type": "markdown",
   "id": "bffc6617",
   "metadata": {},
   "source": [
    "An invitation link will be automatically copied to your clipboard. You'll use this link to interact with yourself in this assignment. If you want to collaborate with other, you can share this link with other to open up the project in their browser on own VS Code.\n",
    "\n",
    "You'll also see the **Live Share** status bar item change to represent the session state."
   ]
  },
  {
   "cell_type": "markdown",
   "id": "1b1316a8",
   "metadata": {},
   "source": [
    "<div style=\"background-color:#AABAB2; color: black; width:95%; vertical-align: middle; padding:15px; margin: 10px; border-radius: 10px\">\n",
    "<p>\n",
    "<b>Task 3.4:</b>   \n",
    "    Copy the invitation link in your web browser.\n",
    "</p>\n",
    "</div>"
   ]
  },
  {
   "cell_type": "markdown",
   "id": "7d16af72",
   "metadata": {},
   "source": [
    "A web version of Visual Studio Code will open in your browser. Continue there."
   ]
  },
  {
   "cell_type": "markdown",
   "id": "f64ec5b2",
   "metadata": {},
   "source": [
    "<div style=\"background-color:#AABAB2; color: black; width:95%; vertical-align: middle; padding:15px; margin: 10px; border-radius: 10px\">\n",
    "<p>\n",
    "<b>Task 3.5:</b>   \n",
    "    Login using the same steps as in task 3.2.\n",
    "</p>\n",
    "</div>"
   ]
  },
  {
   "cell_type": "markdown",
   "id": "2e629aaa",
   "metadata": {},
   "source": [
    "<div style=\"background-color:#AABAB2; color: black; width:95%; vertical-align: middle; padding:15px; margin: 10px; border-radius: 10px\">\n",
    "<p>\n",
    "<b>Task 3.6:</b>   \n",
    "    Go back to your desktop participant of VS code and try typing a few lines of correct code in the cell below. Do you see the same change in the browser happening live?\n",
    "</p>\n",
    "</div>"
   ]
  },
  {
   "cell_type": "code",
   "execution_count": 21,
   "id": "7a2647f4",
   "metadata": {},
   "outputs": [
    {
     "name": "stdout",
     "output_type": "stream",
     "text": [
      "[20.4   20.565 21.32  19.43  20.54  22.95  24.46  21.67  20.98  18.735\n",
      " 15.5   21.91  16.72  19.03  23.34  23.85  22.66  19.57  19.68  21.09\n",
      " 16.8   21.31  19.08  22.73  18.64  18.35  23.16  23.77  15.28  21.59\n",
      " 17.5   19.81  19.92  19.23  20.64  23.05  16.16  16.67  20.18  20.79\n",
      " 23.3   24.31  21.03  20.74  19.85  21.26  22.57  22.32  19.69  19.4\n",
      " 23.41  18.72  19.03  19.24  27.35  25.66  21.77  21.48  21.59  25.9\n",
      " 20.91  25.62  20.53  18.94  24.25  17.76  21.37  20.28  15.89  20.1\n",
      " 19.71  26.32  26.03  20.55  23.56  21.67  25.08  20.49  25.4   24.11\n",
      " 21.78  17.03  23.64  23.55  25.86  18.67  21.48  19.39  18.9   18.01\n",
      " 22.22  26.33  23.54  23.05  18.06  20.37  20.08  24.09  21.6   26.11\n",
      " 21.62  26.23  18.14  22.75  22.16  24.87  18.18  23.79  20.6   25.51\n",
      " 21.92  17.23  21.84  19.85  17.86  20.17  26.18  20.99  21.42  24.43\n",
      " 16.94  24.85  23.56  21.67  21.88  20.99  23.2   21.51  26.02  21.43\n",
      " 28.14  21.05  18.56  22.17  24.08  22.39  22.5   18.21  21.02  22.73\n",
      " 22.84  23.45  25.16  22.57  21.18  22.39  30.3   19.21  24.22  20.43\n",
      " 22.54  23.45  21.46  25.07  20.08  27.09  19.3   21.71  24.62  18.83\n",
      " 19.24  19.85  26.66  26.07  21.68  18.69  23.4   20.01  23.42  21.045\n",
      " 16.14  18.55  20.16  18.57  20.28  21.69  24.4   19.11  24.62  18.83\n",
      " 18.94  19.55  21.46  16.17  28.18  28.89  24.6   21.71  19.83  20.34\n",
      " 19.05  25.76  16.27  22.78  23.59  24.3   19.61  21.22  20.13  20.66\n",
      " 18.97  23.78  17.69  21.9   24.11  21.82  25.33  18.44  22.85  28.06\n",
      " 22.37  18.18  24.89  21.    26.21  26.52  24.13  26.84  22.55  20.76\n",
      " 23.77  20.68  19.99  23.1   26.11  23.72  20.93  19.84  25.35  26.06\n",
      " 17.57  19.38  21.39  21.5   25.71  21.12  26.63  21.94  24.45  24.06\n",
      " 22.37  21.68  23.09  19.7   21.41  23.32  25.43  20.64  27.05  16.16\n",
      " 26.67  21.98  21.59  22.9   26.61  24.62  23.23  20.54  26.95  24.46\n",
      " 31.17  21.88  18.79  24.    19.71  18.32  22.13  23.64  26.15  23.36\n",
      " 26.47  17.58  22.79  21.3   19.21  28.72  27.83  21.84  21.75  21.06\n",
      " 16.67  24.38  24.59  16.9   24.11  22.72  22.73  26.14  24.45  26.26\n",
      " 19.67  21.68  20.59  27.2   17.01  21.62  29.53  21.24  20.25  26.66\n",
      " 24.67  21.98  25.09  18.9   21.21  21.22  25.03  18.74  20.75  21.16\n",
      " 19.57  24.38  24.69  22.7   21.31  21.23  24.44  20.45  23.26  21.07\n",
      " 23.88  23.29  24.5   25.61  23.72  23.33  24.34  26.65  28.56  20.77\n",
      " 21.28  23.69  19.2   23.81  30.12  23.53  20.44  24.15  21.66  19.67\n",
      " 26.88  21.29  19.8   25.71  19.72  22.83  28.14  24.45  25.46  18.17\n",
      " 31.88  24.39  20.    25.81  21.72  25.13  24.24  20.75  16.06  25.67\n",
      " 20.98  22.89  23.1   23.61  23.62  24.83  26.14  25.15  20.86  28.07\n",
      " 23.98  21.89  20.7   26.01  19.62  22.23  23.94  25.45  29.56  22.27\n",
      " 21.68  20.59  26.9   23.51  26.02  20.63  20.64  24.75  25.26  25.27\n",
      " 18.88  24.49  22.7   20.92  25.63  25.54  29.85  23.86  21.37  27.38\n",
      " 20.69  27.    31.11  24.62  21.83  29.04  23.85  18.26  25.47  22.58\n",
      " 24.39  23.8   26.01  21.22  28.33  22.04  21.15  21.16  27.07  27.68\n",
      " 21.09  26.3   23.21  28.52  25.83  19.34  18.85  24.66  29.97  27.38\n",
      " 26.19  21.2   25.61  23.62  24.83  23.14  24.65  18.76  26.97  19.48\n",
      " 24.19  29.2   21.71  30.22  25.53  23.24  24.85  21.26  25.97  26.58\n",
      " 23.59  32.7   29.11  27.22  24.43  21.74  24.25  26.46  28.37  25.28\n",
      " 24.19  22.4   26.71  26.02  28.23  24.74  21.75  24.46  21.17  28.98\n",
      " 24.19  25.4   25.21  23.82  21.93  24.64  28.05  24.86  21.27  30.68\n",
      " 21.69  28.8   27.71  22.92  25.13  27.34  20.95  23.56  20.17  20.48\n",
      " 24.69  28.11  27.32  29.03  27.54  27.65  23.46  29.37  19.68  25.09\n",
      " 29.1   28.21  29.42  20.63  27.24  20.25  22.26  26.37  24.28  19.59\n",
      " 21.6   26.91  23.02  25.63  23.74  19.75  28.56  29.07  24.18  18.39\n",
      " 25.6   25.61  19.42  32.03  26.64  24.85  23.16  26.17  29.88  28.49\n",
      " 23.9   22.91  29.22  26.03  23.94  26.25  28.46  28.47  27.28  24.19\n",
      " 21.6   26.41  25.42  23.03  24.34  21.95  22.76  27.67  22.98  24.59\n",
      " 22.9   26.61  20.62  27.33  28.64  20.35  28.86  27.67  23.98  22.99\n",
      " 22.    27.31  24.22  29.43  20.64  22.65  24.36  21.97  22.48  27.19\n",
      " 26.6   24.31  23.02  18.33  27.54  26.15  24.26  21.77  23.48  24.59\n",
      " 21.1   26.81  18.42  22.63  25.64  28.65  26.36  25.07  23.98  30.89\n",
      " 31.9   26.01  22.62  26.63  26.64  25.65  28.96  21.87  25.68  28.99\n",
      " 30.    27.91  30.02  27.23  24.94  25.15  28.36  25.67  25.78  33.69\n",
      " 26.9   24.01  23.33  25.44  25.65  29.36  25.37  22.68  21.29  27.5\n",
      " 24.91  31.22  31.43  29.14  26.35  32.66  25.07  28.48  21.19  30.3\n",
      " 23.91  23.52  22.63  26.14  29.65  25.46  28.27  26.08  28.09  22.6\n",
      " 30.21  23.52  22.33  23.64  28.85  24.16  29.27  23.68  25.59  23.1\n",
      " 31.91  21.82  26.03  29.74  21.85  29.96  24.07  27.58  27.29  23.9\n",
      " 26.21  29.92  29.93  29.94  29.75  29.76  25.57  27.48  28.29  24.5\n",
      " 27.31  28.42  33.43  27.64  27.55  27.46  27.97  24.98  28.19  26.3\n",
      " 24.81  27.72  23.93  23.64  25.95  26.26  31.87  27.58  27.69  29.\n",
      " 24.91  29.92  28.73  30.14  25.95  29.76  31.57  23.18  31.29  25.3\n",
      " 29.41  21.92  25.33  30.04  36.25  22.36  26.27  24.88  31.29  24.5\n",
      " 31.61  27.32  29.73  30.74  28.65  21.16  30.17  28.08  28.79  24.5\n",
      " 28.51  30.92  33.93  31.74  27.15  30.26  30.57  29.58  31.99  31.5\n",
      " 35.91  27.82  23.93  28.54  24.45  32.76  30.87  31.08  26.59  28.4\n",
      " 28.11  31.52  27.73  29.24  29.05  25.16  29.17  31.68  23.79  28.1\n",
      " 25.01  25.72  29.13  29.54  26.35  28.86  27.67  26.38  30.19  31.5\n",
      " 25.21  28.42  26.03  25.94  23.65  26.86  27.57  28.18  26.79  27.7\n",
      " 29.01  30.52  30.13  30.94  24.35  27.36  23.67  28.28  33.39  28.7\n",
      " 24.71  26.92  29.83  31.14  27.45  26.16  27.97  23.18  27.79  30.4\n",
      " 31.71  30.32  27.63  27.54  27.15  27.26  28.27  24.48  29.09  30.3\n",
      " 28.81  28.42  25.03  23.64  24.65  27.96  30.57  31.98  26.09  27.4\n",
      " 25.91  26.42  25.93  31.04  27.95  32.76  30.37  26.68  26.79  28.4\n",
      " 30.31  27.92  27.53  32.54  25.25  35.46  30.87  29.38  29.39  31.\n",
      " 21.01  24.72  31.63  24.24  24.55  30.06  28.37  29.68  28.59  34.4\n",
      " 27.81  24.92  21.63  26.14  27.05  26.46  31.57  29.18  31.29  25.9\n",
      " 27.11  22.72  32.43  32.34  27.65  28.46  30.37  27.08  29.59  31.8\n",
      " 28.71  22.12  25.43  29.54  30.05  39.76  27.47  28.88  23.79  29.3\n",
      " 33.41  32.52  29.33  30.74  30.55  24.36  26.97  27.08  28.89  27.2\n",
      " 35.91  27.12  25.53  27.54  24.85  34.16  29.27  24.78  33.29  26.6\n",
      " 29.71  24.72  30.13  28.34  25.95  29.86  30.57  28.68  31.49  30.1\n",
      " 26.71  27.32  25.13  29.04  30.55  32.76  30.57  31.58  29.09  27.5\n",
      " 25.61  28.32  23.93  26.74  26.95  26.36  29.67  30.78  29.19  30.2\n",
      " 30.61  23.42  32.83  28.84  31.65  31.26  28.37  29.68  28.89  30.8\n",
      " 31.91  24.92  28.43  30.34  32.45  24.56  26.97  29.08  26.99  31.1\n",
      " 27.61  24.32  30.73  29.14  32.65  29.36  27.67  33.38  27.19  26.1\n",
      " 33.51  31.02  30.53  24.54  28.95  29.86  32.77  32.48  30.79  29.9\n",
      " 28.71  25.12  28.43  31.44  29.35  25.56  30.07  31.38  33.09  30.7\n",
      " 27.11  30.92  30.13  33.74  31.95  29.76  31.27  28.88  33.49  29.\n",
      " 27.91  30.22  24.53  25.54  35.37  32.28  29.39  29.7  ]\n"
     ]
    }
   ],
   "source": [
    "print(temperature)"
   ]
  },
  {
   "cell_type": "markdown",
   "id": "5218a751",
   "metadata": {},
   "source": [
    "<div style=\"background-color:#AABAB2; color: black; width:95%; vertical-align: middle; padding:15px; margin: 10px; border-radius: 10px\">\n",
    "<p>\n",
    "<b>Task 3.7:</b>   \n",
    "    Go back to your browser version of VS code and try running the cell. Note that this requires Requesting access in the browser participant. Request that access and approve it in the desktop participant of VS code. In the desktop participant you now need to select your python environment. Does the cell run? Do you see the output in both participants? Make sure the output doesn't show an error!\n",
    "</p>\n",
    "</div>"
   ]
  },
  {
   "cell_type": "markdown",
   "id": "05c2b97a",
   "metadata": {},
   "source": [
    "<div style=\"background-color:#AABAB2; color: black; width:95%; vertical-align: middle; padding:15px; margin: 10px; border-radius: 10px\">\n",
    "<p>\n",
    "<b>Task 3.8:</b>   \n",
    "    Let's try to make sense of what's happening. Where is the code executed? Run the following code cell from the browser participant. On which computer does this collaborative session run?\n",
    "</p>\n",
    "</div>"
   ]
  },
  {
   "cell_type": "code",
   "execution_count": 22,
   "id": "a9b9f24b",
   "metadata": {},
   "outputs": [
    {
     "name": "stdout",
     "output_type": "stream",
     "text": [
      "Running on a Windows machine named: LAPTOP-075MT6CP\n"
     ]
    }
   ],
   "source": [
    "import platform\n",
    "print(\"Running on a\", platform.system(),\"machine named:\", platform.node())"
   ]
  },
  {
   "cell_type": "markdown",
   "id": "55b401c9",
   "metadata": {},
   "source": [
    "That's cool right? Imagine what you could do with this..."
   ]
  },
  {
   "cell_type": "markdown",
   "id": "4b332269",
   "metadata": {},
   "source": [
    "<div style=\"background-color:#AABAB2; color: black; width:95%; vertical-align: middle; padding:15px; margin: 10px; border-radius: 10px\">\n",
    "<p>\n",
    "<b>Task 3.9:</b>   \n",
    "    Explore some of the functionalities of the Live Share (session chat, following). More information can be found <a href=\"https://learn.microsoft.com/en-us/visualstudio/liveshare/\">here</a>.\n",
    "</p>\n",
    "</div>"
   ]
  },
  {
   "cell_type": "markdown",
   "id": "dd8361f4",
   "metadata": {},
   "source": [
    "<div style=\"background-color:#AABAB2; color: black; width:95%; vertical-align: middle; padding:15px; margin: 10px; border-radius: 10px\">\n",
    "<p>\n",
    "<b>Task 3.10:</b>   \n",
    "    Stop the collaboration session on the desktop-participant by opening the Live Share view on the <strong>Explorer</strong> tab or the <strong>VS Live Share tab</strong> and select the <strong>Stop collaboration session</strong> button:\n",
    "</p>\n",
    "<img src=\"https://learn.microsoft.com/en-us/visualstudio/liveshare/media/vscode-end-collaboration-viewlet.png\">\n",
    "<p>\n",
    "Your web-participant will be notified that the session is over. It won't be able to access the content and any temp files will automatically be cleaned up. Don't forget to save your work on the desktop-participant!\n",
    "</p>\n",
    "</div>"
   ]
  },
  {
   "cell_type": "markdown",
   "id": "d191fa12",
   "metadata": {},
   "source": [
    "**End of notebook.**\n",
    "<h2 style=\"height: 60px\">\n",
    "</h2>\n",
    "<h3 style=\"position: absolute; display: flex; flex-grow: 0; flex-shrink: 0; flex-direction: row-reverse; bottom: 60px; right: 50px; margin: 0; border: 0\">\n",
    "    <style>\n",
    "        .markdown {width:100%; position: relative}\n",
    "        article { position: relative }\n",
    "    </style>\n",
    "    <a rel=\"license\" href=\"http://creativecommons.org/licenses/by/4.0/\">\n",
    "      <img alt=\"Creative Commons License\" style=\"border-width:; width:88px; height:auto; padding-top:10px\" src=\"https://i.creativecommons.org/l/by/4.0/88x31.png\" />\n",
    "    </a>\n",
    "    <a rel=\"TU Delft\" href=\"https://www.tudelft.nl/en/ceg\">\n",
    "      <img alt=\"TU Delft\" style=\"border-width:0; width:100px; height:auto; padding-bottom:0px\" src=\"https://gitlab.tudelft.nl/mude/public/-/raw/main/tu-logo/TU_P1_full-color.png\" />\n",
    "    </a>\n",
    "    <a rel=\"MUDE\" href=\"http://mude.citg.tudelft.nl/\">\n",
    "      <img alt=\"MUDE\" style=\"border-width:0; width:100px; height:auto; padding-bottom:0px\" src=\"https://gitlab.tudelft.nl/mude/public/-/raw/main/mude-logo/MUDE_Logo-small.png\" />\n",
    "    </a>\n",
    "    \n",
    "</h3>\n",
    "<span style=\"font-size: 75%\">\n",
    "&copy; Copyright 2024 <a rel=\"MUDE\" href=\"http://mude.citg.tudelft.nl/\">MUDE</a> TU Delft. This work is licensed under a <a rel=\"license\" href=\"http://creativecommons.org/licenses/by/4.0/\">CC BY 4.0 License</a>."
   ]
  }
 ],
 "metadata": {
  "kernelspec": {
   "display_name": "Python 3 (ipykernel)",
   "language": "python",
   "name": "python3"
  },
  "language_info": {
   "codemirror_mode": {
    "name": "ipython",
    "version": 3
   },
   "file_extension": ".py",
   "mimetype": "text/x-python",
   "name": "python",
   "nbconvert_exporter": "python",
   "pygments_lexer": "ipython3",
   "version": "3.12.4"
  },
  "widgets": {
   "application/vnd.jupyter.widget-state+json": {
    "state": {},
    "version_major": 2,
    "version_minor": 0
   }
  }
 },
 "nbformat": 4,
 "nbformat_minor": 5
}
