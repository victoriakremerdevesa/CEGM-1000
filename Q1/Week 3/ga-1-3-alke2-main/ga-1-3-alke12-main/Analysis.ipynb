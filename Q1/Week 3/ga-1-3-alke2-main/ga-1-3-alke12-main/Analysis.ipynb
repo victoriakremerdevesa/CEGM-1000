{
 "cells": [
  {
   "cell_type": "markdown",
   "id": "785b4e1d",
   "metadata": {},
   "source": [
    "# GA 1.3: Modelling Road Deformation using Non-Linear Least-Squares\n",
    "\n",
    "<h1 style=\"position: absolute; display: flex; flex-grow: 0; flex-shrink: 0; flex-direction: row-reverse; top: 60px;right: 30px; margin: 0; border: 0\">\n",
    "    <style>\n",
    "        .markdown {width:100%; position: relative}\n",
    "        article { position: relative }\n",
    "    </style>\n",
    "    <img src=\"https://gitlab.tudelft.nl/mude/public/-/raw/main/tu-logo/TU_P1_full-color.png\" style=\"width:100px\" />\n",
    "    <img src=\"https://gitlab.tudelft.nl/mude/public/-/raw/main/mude-logo/MUDE_Logo-small.png\" style=\"width:100px\" />\n",
    "</h1>\n",
    "<h2 style=\"height: 10px\">\n",
    "</h2>\n",
    "\n",
    "*[CEGM1000 MUDE](http://mude.citg.tudelft.nl/): Week 1.3. Due: Friday, September 20, 2024.*"
   ]
  },
  {
   "cell_type": "markdown",
   "id": "b3ec533b",
   "metadata": {},
   "source": [
    "<div style=\"background-color:#ffa6a6; color: black; vertical-align: middle; padding:15px; margin: 10px; border-radius: 10px; width: 95%\"><p><b>Notes:</b>\n",
    "\n",
    "- Don't forget to read the \"Assignment Context\" section of the README, it contains important information to understand this analysis.\n",
    "- The Markdown questions and answers in this notebook are <em>not</em> graded; they are to help you make observations and describe results, which will eventually go in your <code>Report.md</code>.\n",
    "</p></div>"
   ]
  },
  {
   "cell_type": "code",
   "execution_count": 1,
   "id": "181ccfd5",
   "metadata": {
    "tags": []
   },
   "outputs": [],
   "source": [
    "import numpy as np\n",
    "from scipy import interpolate\n",
    "from scipy.stats import norm\n",
    "import pandas as pd\n",
    "import matplotlib.pyplot as plt\n",
    "\n",
    "\n",
    "from functions import *\n",
    "\n",
    "np.set_printoptions(precision=3)"
   ]
  },
  {
   "cell_type": "markdown",
   "id": "5ca94e0e",
   "metadata": {},
   "source": [
    "## Part 0: Dictionary Review\n",
    "\n",
    "As described above, several functions in this assignment require the use of a Python dictionary to make it easier to keep track of important data, variables and results for the various _models_ we will be constructing and validating.\n",
    "\n",
    "_It may be useful to revisit PA 1.1, where there was a brief infroduction to dictionaires. That PA contains all the dictionary info you need for GA 1.3. A [read-only copy is here](https://mude.citg.tudelft.nl/2024/files/Week_1_1/PA_1_1_Catch_Them_All.html) and [the source code (notebook) is here](https://gitlab.tudelft.nl/mude/2024-week-1-1)._"
   ]
  },
  {
   "cell_type": "markdown",
   "id": "d8c39791",
   "metadata": {},
   "source": [
    "<div style=\"background-color:#AABAB2; color: black; width:95%; vertical-align: middle; padding:15px; margin: 10px; border-radius: 10px\">\n",
    "<p>\n",
    "\n",
    "$\\textbf{Task 0.1}$ \n",
    "    \n",
    "Read and run the cell below to make sure you remember how to use a dictionary.\n",
    "\n",
    "Modify the function to print some of the other key-value pairs of the dictionary.\n",
    "\n",
    "<em>It may also be useful to use the cell below when working on later tasks in this assignment.</em>\n",
    "    \n",
    "</p>\n",
    "</div>"
   ]
  },
  {
   "cell_type": "code",
   "execution_count": null,
   "id": "8683b5ed",
   "metadata": {},
   "outputs": [],
   "source": [
    "my_dictionary = {'key1': 'value1',\n",
    "                 'key2': 'value2',\n",
    "                 'name': 'Dictionary Example',\n",
    "                 'a_list': [1, 2, 3],\n",
    "                 'an_array': np.array([1, 2, 3]),\n",
    "                 'a_string': 'hello'\n",
    "                 }\n",
    "\n",
    "def function_that_uses_my_dictionary(d):\n",
    "    print(d['key1'])\n",
    "\n",
    "    # SOLUTION:\n",
    "    print(d['name'])\n",
    "    print(d['a_list'])\n",
    "    print(d['an_array'])\n",
    "    print(d['a_string'])\n",
    "\n",
    "    if 'new_key' in d:\n",
    "        print('new_key exists and has value:', d['new_key'])\n",
    "    return\n",
    "\n",
    "function_that_uses_my_dictionary(my_dictionary)"
   ]
  },
  {
   "cell_type": "markdown",
   "id": "86bc7f97",
   "metadata": {},
   "source": [
    "<div style=\"background-color:#AABAB2; color: black; width:95%; vertical-align: middle; padding:15px; margin: 10px; border-radius: 10px\">\n",
    "<p>\n",
    "\n",
    "$\\textbf{Task 0.2}$ \n",
    "\n",
    "Test your knowledge by adding a new key <code>new_key</code> and then executing the function to print the value.\n",
    "    \n",
    "</p>\n",
    "</div>"
   ]
  },
  {
   "cell_type": "code",
   "execution_count": null,
   "id": "41c56f43",
   "metadata": {},
   "outputs": [],
   "source": [
    "YOUR_CODE_HERE\n",
    "function_that_uses_my_dictionary(my_dictionary)"
   ]
  },
  {
   "cell_type": "markdown",
   "id": "160d6250",
   "metadata": {
    "id": "160d6250"
   },
   "source": [
    "## Task 1: Preparing the data\n",
    "\n",
    "Within this assignment you will work with two types of data: InSAR data and GNSS data. The cell below will load the data and visualize the observed displacements time. In this task we use the package `pandas`, which is really useful for handling time series. We will learn how to use it later in the quarter; for now, you only need to recognize that it imports the data as a `dataframe` object, which we then convert into a numpy array using the code below."
   ]
  },
  {
   "cell_type": "markdown",
   "id": "02b12781",
   "metadata": {},
   "source": [
    "<div style=\"background-color:#facb8e; color: black; width:95%; vertical-align: middle; padding:15px; margin: 10px; border-radius: 10px\"> <p>Tip: note that we have converted all observations to millimeters.</p></div>"
   ]
  },
  {
   "cell_type": "code",
   "execution_count": 4,
   "id": "1f28eba3",
   "metadata": {
    "tags": []
   },
   "outputs": [],
   "source": [
    "gnss = pd.read_csv('./data/gnss_observations.csv')\n",
    "times_gnss = pd.to_datetime(gnss['times'])\n",
    "y_gnss = (gnss['observations[m]']).to_numpy()*1000\n",
    "\n",
    "insar = pd.read_csv('./data/insar_observations.csv')\n",
    "times_insar = pd.to_datetime(insar['times'])\n",
    "y_insar = (insar['observations[m]']).to_numpy()*1000\n",
    "\n",
    "gw = pd.read_csv('./data/groundwater_levels.csv')\n",
    "times_gw = pd.to_datetime(gw['times'])\n",
    "y_gw = (gw['observations[mm]']).to_numpy()"
   ]
  },
  {
   "cell_type": "markdown",
   "id": "aa8906a9-2ebe-4432-b4f3-8bf074d6b181",
   "metadata": {},
   "source": [
    "<div style=\"background-color:#AABAB2; color: black; width:95%; vertical-align: middle; padding:15px; margin: 10px; border-radius: 10px\">\n",
    "<p>\n",
    "<b>Task 1.1:</b>   \n",
    "    \n",
    "Once you have used the cell above to import the data, investigate the data sets using the code cell below. Then provide some relevant summary information in the Markdown cell.\n",
    "\n",
    "<em>Hint: at the least, you should be able to tell how many data points are in each data set and get an understanding of the mean and standard deviation of each. Make sure you compare the different datasets and use consistent units.</em>\n",
    "    \n",
    "</p>\n",
    "</div>"
   ]
  },
  {
   "cell_type": "code",
   "execution_count": null,
   "id": "9f025cfc-4f89-492d-ac26-f5b6381d0c70",
   "metadata": {
    "tags": []
   },
   "outputs": [],
   "source": [
    "YOUR_CODE_HERE"
   ]
  },
  {
   "cell_type": "markdown",
   "id": "9fe5a729",
   "metadata": {},
   "source": [
    "You may have noticed that the groundwater data is available for different times than the GNSS and InSAR data. You will therefore have to *interpolate* the data to the same times for a further analysis. You can use the SciPy function ```interpolate.interp1d``` (read its [documentation](https://docs.scipy.org/doc/scipy/reference/generated/scipy.interpolate.interp1d.html)).\n",
    "\n",
    "The cells below do the following:\n",
    "1. Define a function to convert the time unit\n",
    "2. Convert the time stamps for all data\n",
    "3. Use `interp1d` to interpolate the groundwater measurements at the time of the satellite measurements"
   ]
  },
  {
   "cell_type": "code",
   "execution_count": 7,
   "id": "f02ed4c4",
   "metadata": {
    "tags": []
   },
   "outputs": [],
   "source": [
    "def to_days_years(times):\n",
    "    '''Convert the observation times to days and years.'''\n",
    "    \n",
    "    times_datetime = pd.to_datetime(times)\n",
    "    time_diff = (times_datetime - times_datetime[0])\n",
    "    days_diff = (time_diff / np.timedelta64(1,'D')).astype(int)\n",
    "    \n",
    "    days = days_diff.to_numpy()\n",
    "    years = days/365\n",
    "    \n",
    "    return days, years"
   ]
  },
  {
   "cell_type": "code",
   "execution_count": 8,
   "id": "edf14892",
   "metadata": {
    "tags": []
   },
   "outputs": [],
   "source": [
    "days_gnss,  years_gnss  = to_days_years(times_gnss)\n",
    "days_insar, years_insar = to_days_years(times_insar)\n",
    "days_gw,    years_gw    = to_days_years(times_gw)\n",
    "\n",
    "interp = interpolate.interp1d(days_gw, y_gw)\n",
    "\n",
    "GW_at_GNSS_times = interp(days_gnss)\n",
    "GW_at_InSAR_times = interp(days_insar)"
   ]
  },
  {
   "cell_type": "markdown",
   "id": "16827704-4fc5-4afb-879e-0ceeac45eb18",
   "metadata": {},
   "source": [
    "<div style=\"background-color:#AABAB2; color: black; width:95%; vertical-align: middle; padding:15px; margin: 10px; border-radius: 10px\">\n",
    "<p>\n",
    "<b>Task 1.2:</b>   \n",
    "    \n",
    "Answer/complete the code and Markdown cells below:\n",
    "<ol>\n",
    "    <li>What is <code>interp</code>? (what kind of object is it, and how does it work?)</li>\n",
    "    <li>How did the groundwater observation array change? Be quantitative. </li>\n",
    "</ol>\n",
    "    \n",
    "</p>\n",
    "</div>"
   ]
  },
  {
   "cell_type": "code",
   "execution_count": null,
   "id": "6cdfb46b-1324-4c2b-8148-5a6a102ede2e",
   "metadata": {
    "tags": []
   },
   "outputs": [],
   "source": [
    "YOUR_CODE_HERE"
   ]
  },
  {
   "cell_type": "markdown",
   "id": "3b8c68eb-9774-4c3c-91da-f29f035b178c",
   "metadata": {},
   "source": [
    "**Write your answer in this Markdown cell.**"
   ]
  },
  {
   "cell_type": "markdown",
   "id": "349ebd38-d9e1-49b4-b6bd-f5dc399727e0",
   "metadata": {},
   "source": [
    "<div style=\"background-color:#AABAB2; color: black; width:95%; vertical-align: middle; padding:15px; margin: 10px; border-radius: 10px\">\n",
    "<p>\n",
    "<b>Task 1.3:</b>   \n",
    "    \n",
    "Create a single plot to compare observed displacement for the GNSS and InSAR data sets.\n",
    "    \n",
    "</p>\n",
    "</div>"
   ]
  },
  {
   "cell_type": "code",
   "execution_count": null,
   "id": "e868e488",
   "metadata": {
    "tags": []
   },
   "outputs": [],
   "source": [
    "plt.figure(figsize=(15,5))\n",
    "plt.plot(YOUR_CODE_HERE, YOUR_CODE_HERE,\n",
    "         'o', mec='black', label = 'GNSS')\n",
    "plt.plot(YOUR_CODE_HERE, YOUR_CODE_HERE,\n",
    "         'o', mec='black', label = 'InSAR')\n",
    "plt.legend()\n",
    "plt.ylabel('Displacement [mm]')\n",
    "plt.xlabel('Time')\n",
    "plt.show()"
   ]
  },
  {
   "cell_type": "markdown",
   "id": "c9b45b8e",
   "metadata": {},
   "source": [
    "<div style=\"background-color:#AABAB2; color: black; width:95%; vertical-align: middle; padding:15px; margin: 10px; border-radius: 10px\">\n",
    "<p>\n",
    "<b>Task 1.4:</b>   \n",
    "Describe the datasets based on the figure above and your observations from the previous tasks. What kind of deformation do you see? And what are the differences between both datasets? Be quantitative.\n",
    "</p>\n",
    "</div>"
   ]
  },
  {
   "cell_type": "markdown",
   "id": "f9a7bdd4",
   "metadata": {},
   "source": [
    "Before we move on, it is time to do a little bit of housekeeping.\n",
    "\n",
    "Have you found it confusing to keep track of two sets of variables---one for each data type? Let's use a dictionary to store relevant information about each model. We will use this in the plotting functions for this task (and again next week), so make sure you take the time to see what is happening. Review also Part 0 at the top of this notebook if you need a refresher on dictionaries."
   ]
  },
  {
   "cell_type": "markdown",
   "id": "cdcf20f7",
   "metadata": {},
   "source": [
    "<div style=\"background-color:#AABAB2; color: black; width:95%; vertical-align: middle; padding:15px; margin: 10px; border-radius: 10px\">\n",
    "<p>\n",
    "<b>Task 1.5:</b>   \n",
    "    \n",
    "Run the cell below to define a dictionary for storing information about the two (future) models.\n",
    "\n",
    "</p>\n",
    "</div>\n"
   ]
  },
  {
   "cell_type": "code",
   "execution_count": 11,
   "id": "2c27b4f3",
   "metadata": {},
   "outputs": [],
   "source": [
    "model_insar = {'data_type': 'InSAR',\n",
    "               'y':y_insar,\n",
    "               'times':times_insar,\n",
    "               'groundwater': GW_at_InSAR_times\n",
    "               }\n",
    "\n",
    "model_gnss = {'data_type': 'GNSS',\n",
    "               'y':y_gnss,\n",
    "               'times':times_gnss,\n",
    "               'groundwater': GW_at_GNSS_times\n",
    "               }"
   ]
  },
  {
   "cell_type": "markdown",
   "id": "76c9115b",
   "metadata": {
    "id": "76c9115b"
   },
   "source": [
    "## Task 2: Set-up linear functional model\n",
    "\n",
    "We want to investigate how we could model the observed displacements of the road. Because the road is built in the Green Heart we expect that the observed displacements are related to the groundwater level. Furthermore, we assume that the displacements can be modeled using a constant velocity. The model is defined as \n",
    "$$\n",
    "d = d_0 + vt + k \\ \\textrm{GW},\n",
    "$$\n",
    "where $d$ is the displacement, $t$ is time and $\\textrm{GW}$ is the groundwater level (that we assume to be deterministic). \n",
    "\n",
    "Therefore, the model has 3 unknowns:\n",
    "1. $d_0$, as the initial displacement at $t_0$;\n",
    "2. $v$, as the displacement velocity;\n",
    "3. $k$, as the 'groundwater factor', which can be seen as the response of the soil to changes in the groundwater level.\n",
    "\n",
    "\n",
    "As a group you will construct the **functional model** that is defined as \n",
    "$$\n",
    "\\mathbb{E}(Y) = \\mathrm{A x}.\n",
    "$$\n",
    "\n"
   ]
  },
  {
   "cell_type": "markdown",
   "id": "f6aca691",
   "metadata": {},
   "source": [
    "<div style=\"background-color:#AABAB2; color: black; width:95%; vertical-align: middle; padding:15px; margin: 10px; border-radius: 10px\">\n",
    "<p>\n",
    "<b>Task 2.1:</b>   \n",
    "    \n",
    "Construct the design matrix $A$ (for both InSAR and GNSS observations), then show the first 5 observations and confirm the dimensions of $A$.\n",
    "</p>\n",
    "</div>"
   ]
  },
  {
   "cell_type": "code",
   "execution_count": null,
   "id": "3a3eb1a1",
   "metadata": {
    "tags": []
   },
   "outputs": [],
   "source": [
    "YOUR_CODE_HERE"
   ]
  },
  {
   "cell_type": "markdown",
   "id": "d390f466",
   "metadata": {},
   "source": [
    "<div style=\"background-color:#AABAB2; color: black; width:95%; vertical-align: middle; padding:15px; margin: 10px; border-radius: 10px\">\n",
    "<p>\n",
    "\n",
    "$\\textbf{Task 2.2}$\n",
    "   \n",
    "Answer the following questions:\n",
    "\n",
    "- What is the dimension of the observables' vector $Y$?\n",
    "- What are the unknowns of the functional model?\n",
    "- What is the redundancy for this model?\n",
    "\n",
    "</p>\n",
    "</div>\n"
   ]
  },
  {
   "cell_type": "markdown",
   "id": "cde2f4db",
   "metadata": {},
   "source": [
    "<div style=\"background-color:#AABAB2; color: black; width:95%; vertical-align: middle; padding:15px; margin: 10px; border-radius: 10px\">\n",
    "<p>\n",
    "<b>Task 2.3:</b>   \n",
    "    \n",
    "Add the A matrix to the dictionaries for each model. This will be used to plot results later in the notebook.\n",
    "\n",
    "</p>\n",
    "</div>\n"
   ]
  },
  {
   "cell_type": "code",
   "execution_count": null,
   "id": "396ac3a5",
   "metadata": {},
   "outputs": [],
   "source": [
    "model_insar['A'] = YOUR_CODE_HERE\n",
    "model_gnss['A'] = YOUR_CODE_HERE"
   ]
  },
  {
   "cell_type": "markdown",
   "id": "9325d32b",
   "metadata": {
    "id": "9325d32b",
    "tags": []
   },
   "source": [
    "## 3. Set-up stochastic model\n",
    "\n",
    "We will use the Best Linear Unbiased Estimator (BLUE) to solve for the unknown parameters. Therefore we also need a stochastic model, which is defined as\n",
    "$$\n",
    "\\mathbb{D}(Y) = \\Sigma_{Y}.\n",
    "$$\n",
    "where $\\Sigma_{Y}$ is the covariance matrix of the observables' vector. \n",
    "\n",
    "\n"
   ]
  },
  {
   "cell_type": "markdown",
   "id": "dc3aec4c",
   "metadata": {},
   "source": [
    "<div style=\"background-color:#AABAB2; color: black; width:95%; vertical-align: middle; padding:15px; margin: 10px; border-radius: 10px\">\n",
    "<p>\n",
    "<b>Task 3.1:</b>   \n",
    "    \n",
    "Construct the covariance matrix for each type of data and assume that \n",
    "\n",
    "- the observables are independent\n",
    "\n",
    "- the observables are normally distributed\n",
    "\n",
    "- the observables' standard deviation is\n",
    "    \n",
    "    - $\\sigma_\\textrm{InSAR} = 2$ mm \n",
    "    - $\\sigma_\\textrm{GNSS} = 15$ mm \n",
    "    \n",
    "</p>\n",
    "</div>\n"
   ]
  },
  {
   "cell_type": "code",
   "execution_count": null,
   "id": "163acdb3",
   "metadata": {
    "colab": {
     "base_uri": "https://localhost:8080/"
    },
    "executionInfo": {
     "elapsed": 40,
     "status": "ok",
     "timestamp": 1664699881875,
     "user": {
      "displayName": "C Yin",
      "userId": "14075875094781565898"
     },
     "user_tz": -120
    },
    "id": "163acdb3",
    "outputId": "8bc99da3-a61e-4a25-8a54-c90f33299a57",
    "tags": []
   },
   "outputs": [],
   "source": [
    "# YOUR_CODE_HERE"
   ]
  },
  {
   "cell_type": "markdown",
   "id": "b2665071",
   "metadata": {},
   "source": [
    "<div style=\"background-color:#AABAB2; color: black; width:95%; vertical-align: middle; padding:15px; margin: 10px; border-radius: 10px\">\n",
    "<p>\n",
    "\n",
    "$\\textbf{Task 3.2}$\n",
    " \n",
    "Answer the following questions:\n",
    "\n",
    "- What information is contained in the covariance matrix?\n",
    "- How do you implement the assumption that all observations are independent?\n",
    "- What is the dimension of $\\Sigma_{Y}$?\n",
    "- How do you create $\\Sigma_{Y}$?\n",
    "\n",
    "</p>\n",
    "</div>"
   ]
  },
  {
   "cell_type": "markdown",
   "id": "5f06eee5",
   "metadata": {},
   "source": [
    "_Write your answer in this cell._"
   ]
  },
  {
   "cell_type": "markdown",
   "id": "8e87d1fe",
   "metadata": {},
   "source": [
    "<div style=\"background-color:#AABAB2; color: black; width:95%; vertical-align: middle; padding:15px; margin: 10px; border-radius: 10px\">\n",
    "<p>\n",
    "<b>Task 3.3:</b>   \n",
    "    \n",
    "Add <code>Sigma_Y</code> to the dictionaries for each model.\n",
    "\n",
    "</p>\n",
    "</div>\n"
   ]
  },
  {
   "cell_type": "code",
   "execution_count": 17,
   "id": "13cffb4c",
   "metadata": {},
   "outputs": [],
   "source": [
    "model_insar['Sigma_Y'] = YOUR_CODE_HERE\n",
    "model_gnss['Sigma_Y'] = YOUR_CODE_HERE"
   ]
  },
  {
   "cell_type": "markdown",
   "id": "09e965bf",
   "metadata": {
    "id": "09e965bf"
   },
   "source": [
    "## 4. Apply best linear unbiased estimation\n",
    "\n"
   ]
  },
  {
   "cell_type": "markdown",
   "id": "671bbe5e",
   "metadata": {},
   "source": [
    "<div style=\"background-color:#AABAB2; color: black; width:95%; vertical-align: middle; padding:15px; margin: 10px; border-radius: 10px\">\n",
    "<p>\n",
    "<b>Task 4.1:</b>   \n",
    "    \n",
    "Write a function to apply BLUE in the cell below and use the function to estimate the unknowns for the model using the data.\n",
    "\n",
    "Compute the modeled displacements ($\\hat{\\mathrm{y}}$), and corresponding residuals ($\\hat{\\mathrm{\\epsilon}}$), as well as associated values (as requested by the blank code lines).\n",
    "</p>\n",
    "</div>\n",
    "\n"
   ]
  },
  {
   "cell_type": "markdown",
   "id": "c5bd4bad",
   "metadata": {},
   "source": [
    "<div style=\"background-color:#facb8e; color: black; width:95%; vertical-align: middle; padding:15px; margin: 10px; border-radius: 10px\"> <p><strong>Note on code implementation</strong>: you'll see that the functions in this assignment use a dictionary; this greatly reduces the number of input/output variables needed in a function. However, it can make the code inside the function more difficult to read due to the key syntax (e.g., <code>dict['variable_1']</code> versus <code>variable\n",
    "_1</code>). To make this assignment easier for you to implement we have split these functions into three parts: 1) define variables from the dictionary, 2) perform analysis, 3) add results to the dictionary. Note that this is not the most efficient way to write this code; it is done here specifically for clarity and to help you focus on writing the equations properly and understanding the meaning of each term.</p></div>"
   ]
  },
  {
   "cell_type": "code",
   "execution_count": 18,
   "id": "d85b1826",
   "metadata": {
    "tags": []
   },
   "outputs": [],
   "source": [
    "def BLUE(d):\n",
    "    \"\"\"Calculate the Best Linear Unbiased Estimator\n",
    "    \n",
    "    Uses dict as input/output:\n",
    "      - inputs defined from existing values in dict\n",
    "      - outputs defined as new values in dict\n",
    "    \"\"\"\n",
    "\n",
    "    y = d['y']\n",
    "    A = d['A']\n",
    "    Sigma_Y = d['Sigma_Y']\n",
    "\n",
    "    Sigma_X_hat = YOUR_CODE_HERE\n",
    "    x_hat = YOUR_CODE_HERE\n",
    "    \n",
    "    y_hat = YOUR_CODE_HERE\n",
    "\n",
    "    e_hat = YOUR_CODE_HERE\n",
    "\n",
    "    Sigma_Y_hat = YOUR_CODE_HERE\n",
    "    std_Y_hat = YOUR_CODE_HERE\n",
    "\n",
    "    Sigma_e_hat = YOUR_CODE_HERE\n",
    "    std_e_hat = YOUR_CODE_HERE\n",
    "\n",
    "    d['Sigma_X_hat'] = Sigma_X_hat\n",
    "    d['x_hat'] = x_hat\n",
    "    d['y_hat'] = y_hat\n",
    "    d['e_hat'] = e_hat\n",
    "    d['Sigma_Y_hat'] = Sigma_Y_hat\n",
    "    d['std_Y_hat'] = std_Y_hat\n",
    "    d['Sigma_e_hat'] = Sigma_e_hat\n",
    "    d['std_e_hat'] = std_e_hat\n",
    "\n",
    "    return d"
   ]
  },
  {
   "cell_type": "markdown",
   "id": "f6c74941",
   "metadata": {},
   "source": [
    "<div style=\"background-color:#AABAB2; color: black; width:95%; vertical-align: middle; padding:15px; margin: 10px; border-radius: 10px\">\n",
    "<p>\n",
    "<b>Task 4.2:</b>   \n",
    "    \n",
    "Now that you have completed the function, apply it to our two models and then print values for the estimated parameters.\n",
    "</p>\n",
    "</div>\n",
    "\n"
   ]
  },
  {
   "cell_type": "code",
   "execution_count": null,
   "id": "4a592ac1",
   "metadata": {
    "tags": []
   },
   "outputs": [],
   "source": [
    "model_insar = BLUE(model_insar)\n",
    "x_hat_insar = model_insar['x_hat']\n",
    "\n",
    "YOUR_CODE_HERE\n",
    "\n",
    "model_gnss = BLUE(model_gnss)\n",
    "x_hat_gnss = model_gnss['x_hat']\n",
    "\n",
    "YOUR_CODE_HERE"
   ]
  },
  {
   "cell_type": "markdown",
   "id": "bef2f3be",
   "metadata": {},
   "source": [
    "<div style=\"background-color:#AABAB2; color: black; width:95%; vertical-align: middle; padding:15px; margin: 10px; border-radius: 10px\">\n",
    "<p>\n",
    "<b>Task 4.3:</b>   \n",
    "Do the values that you just estimated make sense? Explain, using quantitative results.\n",
    "\n",
    "<em>Hint: all you need to do is use the figures created above to verify that the parameter values printed above are reasonable (e.g., order of magnitude, units, etc).</em> \n",
    "</p>\n",
    "</div>\n",
    "\n"
   ]
  },
  {
   "cell_type": "markdown",
   "id": "65e42a43",
   "metadata": {
    "id": "65e42a43"
   },
   "source": [
    "## 5. Evaluate the precision\n",
    "\n"
   ]
  },
  {
   "cell_type": "markdown",
   "id": "68f79fcb",
   "metadata": {},
   "source": [
    "<div style=\"background-color:#AABAB2; color: black; width:95%; vertical-align: middle; padding:15px; margin: 10px; border-radius: 10px\">\n",
    "<p>\n",
    "<b>Task 5:</b>   \n",
    "    \n",
    "What is the precision of the final estimates? \n",
    "    \n",
    "Print the full covariance matrix of your estimates, and give an interpretation of the numbers in the covariance matrix.\n",
    "</p>\n",
    "</div>\n",
    "\n"
   ]
  },
  {
   "cell_type": "code",
   "execution_count": null,
   "id": "835eefc8",
   "metadata": {
    "colab": {
     "base_uri": "https://localhost:8080/"
    },
    "executionInfo": {
     "elapsed": 16,
     "status": "ok",
     "timestamp": 1664699882186,
     "user": {
      "displayName": "C Yin",
      "userId": "14075875094781565898"
     },
     "user_tz": -120
    },
    "id": "835eefc8",
    "outputId": "ad47d53d-c147-4b25-fb03-b967a3bb6f96",
    "tags": []
   },
   "outputs": [],
   "source": [
    "Sigma_X_hat_insar = model_insar['Sigma_X_hat']\n",
    "\n",
    "YOUR_CODE_HERE\n",
    "\n",
    "Sigma_X_hat_gnss = model_gnss['Sigma_X_hat']\n",
    "\n",
    "YOUR_CODE_HERE"
   ]
  },
  {
   "cell_type": "markdown",
   "id": "886efe26",
   "metadata": {
    "id": "886efe26"
   },
   "source": [
    "## 6. Present and reflect on estimation results"
   ]
  },
  {
   "cell_type": "markdown",
   "id": "8b5550cc",
   "metadata": {},
   "source": [
    "<div style=\"background-color:#AABAB2; color: black; width:95%; vertical-align: middle; padding:15px; margin: 10px; border-radius: 10px\">\n",
    "<p>\n",
    "<b>Task 6.1:</b>   \n",
    "    \n",
    "Complete the function below to help us compute the confidence intervals, then apply the function. Use a confidence interval of 96% in your analysis.\n",
    "\n",
    "<em>Hint: it can be used in exactly the same way as the <code>BLUE</code> function above, although it has one extra input.</em>\n",
    "</p>\n",
    "</div>\n"
   ]
  },
  {
   "cell_type": "code",
   "execution_count": null,
   "id": "2711da12",
   "metadata": {},
   "outputs": [],
   "source": [
    "def get_CI(d, alpha):\n",
    "    \"\"\"Compute the confidence intervals.\n",
    "    \n",
    "    Uses dict as input/output:\n",
    "      - inputs defined from existing values in dict\n",
    "      - outputs defined as new values in dict\n",
    "    \"\"\"\n",
    "\n",
    "    std_e_hat = d['std_e_hat']\n",
    "    std_Y_hat = d['std_Y_hat']\n",
    "\n",
    "    k = YOUR_CODE_HERE\n",
    "    CI_Y_hat = YOUR_CODE_HERE\n",
    "    CI_res = YOUR_CODE_HERE\n",
    "\n",
    "    d['alpha'] = alpha\n",
    "    d['CI_Y_hat'] = CI_Y_hat\n",
    "    d['CI_res'] = CI_res\n",
    "\n",
    "    return d"
   ]
  },
  {
   "cell_type": "code",
   "execution_count": 30,
   "id": "d9a41ea5",
   "metadata": {},
   "outputs": [],
   "source": [
    "model_insar = YOUR_CODE_HERE\n",
    "model_gnss = YOUR_CODE_HERE"
   ]
  },
  {
   "cell_type": "markdown",
   "id": "53cf3663",
   "metadata": {},
   "source": [
    "At this point we have all the important results entered in our dictionary and we will be able to use the plots that have been written for you in the next Tasks. In case you would like to easily see all of the key-value pairs that have been added to the dictionary, you can run the cell below:"
   ]
  },
  {
   "cell_type": "code",
   "execution_count": null,
   "id": "b3bb808e",
   "metadata": {},
   "outputs": [],
   "source": [
    "print(\"Keys and Values (type) for model_insar:\")\n",
    "for key, value in model_insar.items():\n",
    "    print(f\"{key:16s} -->    {type(value)}\")\n",
    "print(\"\\nKeys and Values (type) for model_gnss:\")\n",
    "for key, value in model_gnss.items():\n",
    "    print(f\"{key:16s} -->    {type(value)}\")"
   ]
  },
  {
   "cell_type": "markdown",
   "id": "aaf72e41",
   "metadata": {},
   "source": [
    "<div style=\"background-color:#AABAB2; color: black; width:95%; vertical-align: middle; padding:15px; margin: 10px; border-radius: 10px\">\n",
    "<p>\n",
    "<b>Task 6.2:</b>   \n",
    "    \n",
    "Read the contents of file <code>functions.py</code> and identify what it is doing: you should be able to recognize that they use our model dictionary as an input and create three different figures. Note also that the function to create the figures have already been imported at the top of this notebook.\n",
    "\n",
    "Use the functions provided to visualize the results of our two models.\n",
    "</p>\n",
    "</div>\n"
   ]
  },
  {
   "cell_type": "markdown",
   "id": "e8da1f6c-23de-4f80-a76c-5f0a9b4020b4",
   "metadata": {
    "id": "0491cc69"
   },
   "source": [
    "<div style=\"background-color:#facb8e; color: black; width:95%; vertical-align: middle; padding:15px; margin: 10px; border-radius: 10px\"> <p><strong>Note</strong>: remember that you will have to use the same function to look at <em>both</em> models when writing your interpretation in the Report.</p></div>"
   ]
  },
  {
   "cell_type": "code",
   "execution_count": null,
   "id": "ec7c8bef",
   "metadata": {},
   "outputs": [],
   "source": [
    "_, _ = plot_model(YOUR_CODE_HERE)"
   ]
  },
  {
   "cell_type": "code",
   "execution_count": null,
   "id": "104d155d",
   "metadata": {},
   "outputs": [],
   "source": [
    "_, _ = plot_residual(YOUR_CODE_HERE)"
   ]
  },
  {
   "cell_type": "code",
   "execution_count": null,
   "id": "1dc93ce9",
   "metadata": {},
   "outputs": [],
   "source": [
    "_, _ = plot_residual_histogram(YOUR_CODE_HERE)"
   ]
  },
  {
   "cell_type": "markdown",
   "id": "3203d779",
   "metadata": {},
   "source": [
    "**End of notebook.**\n",
    "<h2 style=\"height: 60px\">\n",
    "</h2>\n",
    "<h3 style=\"position: absolute; display: flex; flex-grow: 0; flex-shrink: 0; flex-direction: row-reverse; bottom: 60px; right: 50px; margin: 0; border: 0\">\n",
    "    <style>\n",
    "        .markdown {width:100%; position: relative}\n",
    "        article { position: relative }\n",
    "    </style>\n",
    "    <a rel=\"license\" href=\"http://creativecommons.org/licenses/by/4.0/\">\n",
    "      <img alt=\"Creative Commons License\" style=\"border-width:; width:88px; height:auto; padding-top:10px\" src=\"https://i.creativecommons.org/l/by/4.0/88x31.png\" />\n",
    "    </a>\n",
    "    <a rel=\"TU Delft\" href=\"https://www.tudelft.nl/en/ceg\">\n",
    "      <img alt=\"TU Delft\" style=\"border-width:0; width:100px; height:auto; padding-bottom:0px\" src=\"https://gitlab.tudelft.nl/mude/public/-/raw/main/tu-logo/TU_P1_full-color.png\" />\n",
    "    </a>\n",
    "    <a rel=\"MUDE\" href=\"http://mude.citg.tudelft.nl/\">\n",
    "      <img alt=\"MUDE\" style=\"border-width:0; width:100px; height:auto; padding-bottom:0px\" src=\"https://gitlab.tudelft.nl/mude/public/-/raw/main/mude-logo/MUDE_Logo-small.png\" />\n",
    "    </a>\n",
    "    \n",
    "</h3>\n",
    "<span style=\"font-size: 75%\">\n",
    "&copy; Copyright 2024 <a rel=\"MUDE\" href=\"http://mude.citg.tudelft.nl/\">MUDE</a> TU Delft. This work is licensed under a <a rel=\"license\" href=\"http://creativecommons.org/licenses/by/4.0/\">CC BY 4.0 License</a>."
   ]
  }
 ],
 "metadata": {
  "colab": {
   "collapsed_sections": [],
   "provenance": []
  },
  "kernelspec": {
   "display_name": "Python 3 (ipykernel)",
   "language": "python",
   "name": "python3"
  },
  "language_info": {
   "codemirror_mode": {
    "name": "ipython",
    "version": 3
   },
   "file_extension": ".py",
   "mimetype": "text/x-python",
   "name": "python",
   "nbconvert_exporter": "python",
   "pygments_lexer": "ipython3",
   "version": "3.12.4"
  },
  "vscode": {
   "interpreter": {
    "hash": "b932539803d9742d977fbe9ca28a706a58466dc5c9df0c7af4e41c76d82e5a85"
   }
  },
  "widgets": {
   "application/vnd.jupyter.widget-state+json": {
    "state": {},
    "version_major": 2,
    "version_minor": 0
   }
  }
 },
 "nbformat": 4,
 "nbformat_minor": 5
}
