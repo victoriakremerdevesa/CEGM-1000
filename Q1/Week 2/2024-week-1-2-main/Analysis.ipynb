{
 "cells": [
  {
   "cell_type": "markdown",
   "id": "c7463ce3-aef5-46fe-950b-8f4f290cc2b9",
   "metadata": {},
   "source": [
    "# GA 1.2: Analysis Notebook\n",
    "\n",
    "<h1 style=\"position: absolute; display: flex; flex-grow: 0; flex-shrink: 0; flex-direction: row-reverse; top: 60px;right: 30px; margin: 0; border: 0\">\n",
    "    <style>\n",
    "        .markdown {width:100%; position: relative}\n",
    "        article { position: relative }\n",
    "    </style>\n",
    "    <img src=\"https://gitlab.tudelft.nl/mude/public/-/raw/main/tu-logo/TU_P1_full-color.png\" style=\"width:100px\" />\n",
    "    <img src=\"https://gitlab.tudelft.nl/mude/public/-/raw/main/mude-logo/MUDE_Logo-small.png\" style=\"width:100px\" />\n",
    "</h1>\n",
    "<h2 style=\"height: 10px\">\n",
    "</h2>\n",
    "\n",
    "*[CEGM1000 MUDE](http://mude.citg.tudelft.nl/): Week 1.2, Friday, Sep 13, 2024.*"
   ]
  },
  {
   "cell_type": "markdown",
   "id": "1db6fea9-f3ad-44bc-a4c8-7b2b3008e945",
   "metadata": {
    "id": "1db6fea9-f3ad-44bc-a4c8-7b2b3008e945",
    "tags": []
   },
   "source": [
    "_This assignment does not need to be turned in._\n",
    "\n",
    "## Let's account for the latest news!\n",
    "\n",
    "Imagine that it is April 5, 2025: the **last day** to make a bet for the 2025 Breakup! Our team has a method for predicting breakup time already, and the key piece of information that you need to provide is an estimate of **ice thickness.** Of course, we know that there is a lot of variability in the growth and melting of ice due to the weather conditions, so we also need to evaluate the **uncertainty** in our estimate.\n",
    "\n",
    "In short, your task in this notebook is to provide an estimate of the mean and standard deviation of the ice thickness given uncertain temperature as an input variable.\n",
    "\n",
    "## The Ice Thickness Model\n",
    "\n",
    "To model the ice growth, you want to use the classical _Stefan's Problem_, which aims to determine how an ice layer grows as a function of time, given the constraint that the temperature of air ($T_{air}$) is constant, smaller than the freezing temperature $T_{fr}$ and everywhere the same.\n",
    "\n",
    "\n",
    "![Sketch](./sketch_ice.png)\n",
    "\n",
    "Using this problem, we can model ice growth as:\n",
    "\n",
    "$$\n",
    "H^2_{ice}-H^2_{ice,0} = \\frac{2 k_{ice}}{\\rho_{ice} l}\\int{(T_s-T_{fr})}dt\n",
    "$$\n",
    "\n",
    "where $H_{ice}$ is the thickness of the ice at a given time $t$, $H_{ice,0}$ is the thickness of the ice at time $t=0$, $k_{ice}=2.2W/(K \\cdot m)$ is the thermal conductivity of ice, $\\rho_{ice}=917 kg/m^3$ is the density of ice, $l = 333,4 J/g = 333,4 kJ/kg$ is the latent heat of fusion, $T_s$ is the equal to the temperature of the air and $T_{fr}=273K$ is the freezing temperature of water.\n",
    "\n",
    "We want to estimate the ice thickness after 3 days, and will assume that the temperature remains stable during that period. Therefore, the previous equation will lead to:\n",
    "\n",
    "$$\n",
    "H_{ice} = \\sqrt{\\frac{2 k_{ice}}{\\rho_{ice} l}\\Delta T \\Delta t+H^2_{ice,0}}\n",
    "$$\n",
    "\n",
    "where $\\Delta T = |T_s-T_{fr}|$ and $\\frac{2 k_{ice}}{\\rho_{ice} l} \\approx 1.44 \\cdot 10^{-8} \\ m^2/K s$\n",
    "\n",
    "**Previous work provides the following data:**\n",
    "- Based on the samples of ice measurements, the mean thickness is $\\mu_{H0}=0.20m$ and the standard deviation of thickness is $\\sigma_{H0}=0.03m$.\n",
    "- Based on the forecast, the mean air temperature during the next 3 days is $\\mu_T=263K$ and the standard deviation of the temperature of $\\sigma_T=4K$.\n",
    "- The rest of the variables are deterministic.\n",
    "- The ice thickness and the predicted temperature are independent random variables.\n",
    "\n",
    "**The goal of this notebook is to carry out the uncertainty propagation and validation of the propagation model. Then you will use the results to answer a few questions in the `Report.md` file.**\n",
    "\n",
    "*Note that you are interested in the increment of temperature $|T_s-T_{fr}|$, whose mean is $\\mu_{iT}=|263-273|=10K$ and $\\sigma_{iT}=4K$.*"
   ]
  },
  {
   "cell_type": "code",
   "execution_count": 1,
   "id": "4fc6e87d-c66e-43df-a937-e969acc409f8",
   "metadata": {
    "id": "4fc6e87d-c66e-43df-a937-e969acc409f8"
   },
   "outputs": [],
   "source": [
    "import numpy as np\n",
    "import matplotlib.pyplot as plt\n",
    "\n",
    "from scipy.stats import norm\n",
    "from scipy.stats import probplot\n",
    "\n",
    "plt.rcParams.update({'font.size': 14})"
   ]
  },
  {
   "cell_type": "markdown",
   "id": "69d17c31",
   "metadata": {},
   "source": [
    "### Internal equation check\n",
    "\n",
    "Here we provide a simple function to check the values of ice thickness for different values of the input parameters. It may be useful to debug your code, or to get an understanding for the function of random variables."
   ]
  },
  {
   "cell_type": "code",
   "execution_count": 2,
   "id": "a96c4196",
   "metadata": {},
   "outputs": [],
   "source": [
    "def stefan(constant, H0, Ts, Tfr, time):\n",
    "    return np.sqrt(constant*time*abs(Ts-Tfr) + H0**2)"
   ]
  },
  {
   "cell_type": "code",
   "execution_count": null,
   "id": "3a8c482a",
   "metadata": {},
   "outputs": [],
   "source": [
    "print('Ice thickness: ' +\n",
    "      f'{stefan(1.44*10**(-8), 0.15, 261, 273, 3*24*3600):.3f} m')"
   ]
  },
  {
   "cell_type": "markdown",
   "id": "1ee42f39",
   "metadata": {},
   "source": [
    "## Part 1: Write all necessary functions\n",
    "\n",
    "1. Apply the propagation laws with `H_taylor()` to find the mean and standard deviation of the linearized function of random variables \n",
    "2. Find the distribution of `H_ice` numerically with a simulation, then compare this to the Normal distribution defined by the mean and standard deviation of the linearized function of random variables\n"
   ]
  },
  {
   "cell_type": "markdown",
   "id": "bfadcf3f-4578-4809-acdb-625ab3a71f27",
   "metadata": {
    "id": "bfadcf3f-4578-4809-acdb-625ab3a71f27"
   },
   "source": [
    "<div style=\"background-color:#AABAB2; color: black; width:95%; vertical-align: middle; padding:15px; margin: 10px; border-radius: 10px\">\n",
    "<p>\n",
    "\n",
    "$\\textbf{Task 1}$\n",
    "   \n",
    "Complete the two functions in the cell below, and support your work by including an image showing the analytic equations.\n",
    "</p>\n",
    "</div>"
   ]
  },
  {
   "cell_type": "code",
   "execution_count": 4,
   "id": "a2f08dc7",
   "metadata": {},
   "outputs": [],
   "source": [
    "def H_taylor(mu_H0, mu_iT, sigma_H0, sigma_iT):\n",
    "    \"\"\" Taylor series approximation of mean and std of H\"\"\"\n",
    "    \n",
    "    # Write your own preliminary variables here\n",
    "    YOUR_CODE_HERE # Probably more than one line\n",
    "\n",
    "    mu_H = YOUR_CODE_HERE\n",
    "    sigma_H = YOUR_CODE_HERE\n",
    "    \n",
    "    return mu_H, sigma_H\n",
    "\n",
    "def samples_plot(N, mu_H0, mu_iT, sigma_H0, sigma_iT):\n",
    "    \"\"\"Generate samples and plots for V\n",
    "    \n",
    "    Compares the approximated Normal distribution of V to numerically\n",
    "    approximated distribution, found by sampling from the input\n",
    "    distributions.\n",
    "    \n",
    "    Return: a plot and the mean and std dev of simulated values of H_ice.\n",
    "    \"\"\"\n",
    "    H0_samples = YOUR_CODE_HERE\n",
    "    iT_samples = YOUR_CODE_HERE\n",
    "\n",
    "    # negative values of ice thickness not physically possible\n",
    "    count_negative_iT = sum(iT_samples < 0)\n",
    "    if count_negative_iT > 0:\n",
    "        iT_samples[iT_samples < 0] = 0\n",
    "        print(f'Number of iT samples adjusted to 0: {count_negative_iT} '+\n",
    "              f'({count_negative_iT/N*100:.1f}% of N)')\n",
    "    \n",
    "    h_samples = YOUR_CODE_HERE\n",
    "    mu_H = YOUR_CODE_HERE\n",
    "    sigma_H = YOUR_CODE_HERE\n",
    "    \n",
    "    # Plot histogram\n",
    "    xmin = 0.0\n",
    "    xmax = 0.5\n",
    "    x = np.linspace(xmin, xmax, 100)\n",
    "    fig, ax = plt.subplots(1, 2, figsize = (16, 6))\n",
    "\n",
    "    ax[0].hist(YOUR_CODE_HERE,\n",
    "               bins = 40, density = True,\n",
    "               edgecolor='black', linewidth=1.2, \n",
    "               label = 'Empirical PDF of ${H_{ice}}$')\n",
    "\n",
    "    \n",
    "    Add normal pdf in same figure\n",
    "    ax[0].plot(x, YOUR_CODE_HERE, color = 'black',\n",
    "               lw = 2.5, label='Normal PDF')\n",
    "\n",
    "    ax[0].set_xlim(xmin, xmax)\n",
    "    ax[0].legend()\n",
    "    ax[0].set_xlabel('${H_{ice} [m]}$')\n",
    "    ax[0].set_ylabel('Density')\n",
    "    ax[0].set_title(f'Simulation with {N} simulated realizations'\n",
    "                    + '\\n' + f'mean = {mu_H:.3e}' \n",
    "                    f'm and std = {sigma_H:.3e} m')\n",
    "    \n",
    "    # Add probability plot in right-side panel\n",
    "    probplot(YOUR_CODE_HERE, dist = norm, fit = True, plot = ax[1])\n",
    "    \n",
    "    ax[1].legend(['Generated samples', 'Normal fit'])\n",
    "    ax[1].get_lines()[1].set_linewidth(2.5)\n",
    "    plt.show()\n",
    "    \n",
    "    return mu_H, sigma_H, h_samples"
   ]
  },
  {
   "cell_type": "markdown",
   "id": "a2ed1792-c615-4678-b45d-f2d11bd8d789",
   "metadata": {},
   "source": [
    "## Part 2: Uncertainty Propagation"
   ]
  },
  {
   "cell_type": "markdown",
   "id": "9091cfce",
   "metadata": {},
   "source": [
    "<div style=\"background-color:#AABAB2; color: black; width:95%; vertical-align: middle; padding:15px; margin: 10px; border-radius: 10px\">\n",
    "<p>\n",
    "\n",
    "$\\textbf{Task 2}$\n",
    "\n",
    "Use the functions defined in Task 1 to compute the mean and standard deviation of the linearized function of random variables, and compare the distribution defined by this result to the distribution of $H_{ice}$ found using simulation.\n",
    "</p>\n",
    "</div>"
   ]
  },
  {
   "cell_type": "markdown",
   "id": "5434cfdc-441b-47e2-ad4a-12091c5886bc",
   "metadata": {},
   "source": [
    "Now we can compute the $\\mu_H$ and $\\sigma_H$ as a function of:\n",
    "- $\\mu_{iT}=10K$ and $\\sigma_{iT}=4K$\n",
    "- $\\mu_{H0}=0.20m$ and $\\sigma_{H0}=0.03m$"
   ]
  },
  {
   "cell_type": "code",
   "execution_count": null,
   "id": "55ff8dd6-86ef-401a-9a56-02551c348698",
   "metadata": {
    "colab": {
     "base_uri": "https://localhost:8080/",
     "height": 425
    },
    "id": "55ff8dd6-86ef-401a-9a56-02551c348698",
    "outputId": "3add4ee9-1054-4726-dc4f-72dca5c1c6c8"
   },
   "outputs": [],
   "source": [
    "mu_iT = 10\n",
    "sigma_iT = 4\n",
    "mu_H0 = 0.20\n",
    "sigma_H0 = 0.03\n",
    "N = 10000\n",
    "\n",
    "mu_H, sigma_H = YOUR_CODE_HERE\n",
    "\n",
    "print('Comparison of propagated and simulated distributions:\\n')\n",
    "mu_H_simulated, sigma_H_simulated, _ = samples_plot(N,\n",
    "                                                    mu_H0, mu_iT,\n",
    "                                                    sigma_H0, sigma_iT)\n",
    "\n",
    "print('\\n\\nMean and standard deviation of linearized function:')\n",
    "print('  \\N{GREEK SMALL LETTER MU}',\n",
    "        '\\N{LATIN SUBSCRIPT SMALL LETTER H}=',\n",
    "      f'{mu_H:.3f}', 'm')\n",
    "print('  \\N{GREEK SMALL LETTER SIGMA}',\n",
    "        '\\N{LATIN SUBSCRIPT SMALL LETTER H}=',\n",
    "      f'{sigma_H:.3f}', 'm')\n",
    "\n",
    "print('\\n\\nMean and standard deviation of simulated distribution:')\n",
    "print('  \\N{GREEK SMALL LETTER MU}',\n",
    "        '\\N{LATIN SUBSCRIPT SMALL LETTER H} =',\n",
    "      f'{mu_H_simulated:.3f}', 'm')\n",
    "print('  \\N{GREEK SMALL LETTER SIGMA}',\n",
    "        '\\N{LATIN SUBSCRIPT SMALL LETTER H}=',\n",
    "      f'{sigma_H_simulated:.3f}', 'm')\n",
    "print('\\n')"
   ]
  },
  {
   "cell_type": "markdown",
   "id": "2424ca5c",
   "metadata": {},
   "source": [
    "<div style=\"background-color:#facb8e; color: black; vertical-align: middle; padding:15px; margin: 10px; border-radius: 10px; width: 95%\"> <p><em>Recall that the right-hand plot above (and below) is by default labeled \"theoretical quantiles\" but in fact it is the q value (see description in WS 1.2). The y-axis contains the ordered values of the output variable, ice thickness.</em></p></div>"
   ]
  },
  {
   "cell_type": "markdown",
   "id": "3229653f",
   "metadata": {},
   "source": [
    "## Part 3: Validation of Sample Size\n",
    "\n",
    "_Note: this is something \"new,\" relative to the Wednesday workshop WS 1.2._\n",
    "\n",
    "As you may recall, the \"accuracy\" of a Monte Carlo simulation depends on the size of the sample (OK, we know you probably don't recall this: go read the first few paragraphs from Workshop 1.2 again, [here is a link](https://mude.citg.tudelft.nl/2024/files/Week_1_2/WS_1_2_solution.html)). The code cell below sets up a loop and prints the output of the uncertainty propagation for a few different sample sizes.  Take a look at the results and see how they change; you will answer a question about this in the Report."
   ]
  },
  {
   "cell_type": "markdown",
   "id": "cc8090d4",
   "metadata": {},
   "source": [
    "<div style=\"background-color:#AABAB2; color: black; width:95%; vertical-align: middle; padding:15px; margin: 10px; border-radius: 10px\">\n",
    "<p>\n",
    "\n",
    "$\\textbf{Task 3.1}$\n",
    "\n",
    "The code cell below can be used for your answer to one of the questions in the Report, where you are asked to consider the \"inaccurate\" values that might be produced by this model. \n",
    "</p>\n",
    "</div>"
   ]
  },
  {
   "cell_type": "code",
   "execution_count": null,
   "id": "8c336566",
   "metadata": {},
   "outputs": [],
   "source": [
    "for N in [5, 50, 500, 5000, 50000]:\n",
    "    mu_H_simulated, sigma_H_simulated, h_samp = samples_plot(N,\n",
    "                                                             mu_H0,\n",
    "                                                             mu_iT,\n",
    "                                                             sigma_H0,\n",
    "                                                             sigma_iT)\n",
    "    print(f'For N = {N} samples:')\n",
    "    print(f'    mean = {mu_H_simulated:.3f} m')\n",
    "    print(f'    std = {sigma_H_simulated:.3f} m\\n')\n"
   ]
  },
  {
   "cell_type": "markdown",
   "id": "7f4ce674",
   "metadata": {},
   "source": [
    "<div style=\"background-color:#AABAB2; color: black; width:95%; vertical-align: middle; padding:15px; margin: 10px; border-radius: 10px\">\n",
    "<p>\n",
    "\n",
    "$\\textbf{Task 3.2}$\n",
    "\n",
    "The code cell below can be used for your answer to one of the questions in the Report, where you are asked to consider the \"inaccurate\" values that might be produced by this model. \n",
    "</p>\n",
    "</div>"
   ]
  },
  {
   "cell_type": "code",
   "execution_count": null,
   "id": "fb0f562b",
   "metadata": {},
   "outputs": [],
   "source": [
    "# YOUR_CODE_HERE\n",
    "\n",
    "for i in np.linspace(0.1, 0.4, 10):\n",
    "    print(f'for an ice thickness of {i:5.2f} m --> ' +\n",
    "          f'{100*sum(h_samp <= i)/len(h_samp):8.4f}% of samples, ' +\n",
    "          f'{100*norm.cdf(i, mu_H, sigma_H):8.4f}% of distribution')\n"
   ]
  },
  {
   "cell_type": "markdown",
   "id": "dae9ee19",
   "metadata": {},
   "source": [
    "<div style=\"background-color:#facb8e; color: black; vertical-align: middle; padding:15px; margin: 10px; border-radius: 10px; width: 95%\"> <p>Once you have completed the analysis in this notebook, proceed to the questions in <code>Report.md</code></p></div>"
   ]
  },
  {
   "cell_type": "markdown",
   "id": "5bc8ac9b",
   "metadata": {},
   "source": [
    "**End of notebook.**\n",
    "<h2 style=\"height: 60px\">\n",
    "</h2>\n",
    "<h3 style=\"position: absolute; display: flex; flex-grow: 0; flex-shrink: 0; flex-direction: row-reverse; bottom: 60px; right: 50px; margin: 0; border: 0\">\n",
    "    <style>\n",
    "        .markdown {width:100%; position: relative}\n",
    "        article { position: relative }\n",
    "    </style>\n",
    "    <a rel=\"license\" href=\"http://creativecommons.org/licenses/by/4.0/\">\n",
    "      <img alt=\"Creative Commons License\" style=\"border-width:; width:88px; height:auto; padding-top:10px\" src=\"https://i.creativecommons.org/l/by/4.0/88x31.png\" />\n",
    "    </a>\n",
    "    <a rel=\"TU Delft\" href=\"https://www.tudelft.nl/en/ceg\">\n",
    "      <img alt=\"TU Delft\" style=\"border-width:0; width:100px; height:auto; padding-bottom:0px\" src=\"https://gitlab.tudelft.nl/mude/public/-/raw/main/tu-logo/TU_P1_full-color.png\" />\n",
    "    </a>\n",
    "    <a rel=\"MUDE\" href=\"http://mude.citg.tudelft.nl/\">\n",
    "      <img alt=\"MUDE\" style=\"border-width:0; width:100px; height:auto; padding-bottom:0px\" src=\"https://gitlab.tudelft.nl/mude/public/-/raw/main/mude-logo/MUDE_Logo-small.png\" />\n",
    "    </a>\n",
    "    \n",
    "</h3>\n",
    "<span style=\"font-size: 75%\">\n",
    "&copy; Copyright 2024 <a rel=\"MUDE\" href=\"http://mude.citg.tudelft.nl/\">MUDE</a> TU Delft. This work is licensed under a <a rel=\"license\" href=\"http://creativecommons.org/licenses/by/4.0/\">CC BY 4.0 License</a>."
   ]
  }
 ],
 "metadata": {
  "colab": {
   "collapsed_sections": [],
   "provenance": []
  },
  "kernelspec": {
   "display_name": "Python 3 (ipykernel)",
   "language": "python",
   "name": "python3"
  },
  "language_info": {
   "codemirror_mode": {
    "name": "ipython",
    "version": 3
   },
   "file_extension": ".py",
   "mimetype": "text/x-python",
   "name": "python",
   "nbconvert_exporter": "python",
   "pygments_lexer": "ipython3",
   "version": "3.12.4"
  },
  "widgets": {
   "application/vnd.jupyter.widget-state+json": {
    "state": {},
    "version_major": 2,
    "version_minor": 0
   }
  }
 },
 "nbformat": 4,
 "nbformat_minor": 5
}
