{
 "cells": [
  {
   "cell_type": "markdown",
   "id": "d14e9d93",
   "metadata": {},
   "source": [
    "# PA 1.1: Catch Them All\n",
    "\n",
    "<h1 style=\"position: absolute; display: flex; flex-grow: 0; flex-shrink: 0; flex-direction: row-reverse; top: 60px;right: 30px; margin: 0; border: 0\">\n",
    "    <style>\n",
    "        .markdown {width:100%; position: relative}\n",
    "        article { position: relative }\n",
    "    </style>\n",
    "    <img src=\"https://gitlab.tudelft.nl/mude/public/-/raw/main/tu-logo/TU_P1_full-color.png\" style=\"width:100px\" />\n",
    "    <img src=\"https://gitlab.tudelft.nl/mude/public/-/raw/main/mude-logo/MUDE_Logo-small.png\" style=\"width:100px\" />\n",
    "</h1>\n",
    "<h2 style=\"height: 10px\">\n",
    "</h2>\n",
    "\n",
    "*[CEGM1000 MUDE](http://mude.citg.tudelft.nl/): Week 1.1, 2024.*"
   ]
  },
  {
   "cell_type": "markdown",
   "id": "49c7419b",
   "metadata": {},
   "source": [
    "In this assignment we will check out a fundamental Python data type: dictionaries. We will also use a `*.py` file to import data to help understand what a dictionary is.\n",
    "\n",
    "While dictionaries are fun and useful, the *real* purpose of this assignment is to confirm that you are comfortable using Jupyter notebooks, as we will use them a lot in MUDE. If you have used these `*.ipynb` files before, this will be easy although the VSC interface is slightly different than Jupyter software).\n",
    "\n",
    "If you have never used a Jupyter notebook before, don't panic: your teachers are available to help (don't forget about question hours on Tue and Thu!). Hopefully one of your group members can also help you get acquainted with these files and how to use them.\n",
    "\n",
    "If you find notebooks to be \"simple\" we ask that you _please help your fellow group members if they are unfamiliar with this tool!_ This will help you become a more collaborative group later on in the quarter, so help each other out now while the assignments are easier.\n",
    "\n",
    "## Part 0: Making sure you can run Python in the notebook\n",
    "\n",
    "In a simple sense, Jupyter Notebooks are documents that consist of many _cells._ Some _cells_ are formatted text (Markdown, like this one), others can be used to execute Python code. Because we have already set up a _conda environment_ that includes the Python programming language, all we have to do is tell VS Code which environment to use and it will take care of sending the code in the Python cells to the environment so that they can be executed as desired. Then the _output_ from running that code is displayed in the space below the Python cell from which it was executed. Let's try it with a simple `print()` statement!\n",
    "\n",
    "_If you did the installation of Miniconda and Jupyter properly, you should be able to execute Python cell below_"
   ]
  },
  {
   "cell_type": "markdown",
   "id": "fae14e4b",
   "metadata": {},
   "source": [
    "<div style=\"background-color:#AABAB2; color: black; vertical-align: middle; padding:15px; margin: 10px; border-radius: 10px; width: 95%\">\n",
    "<p>\n",
    "<b>Task 0:</b>   \n",
    "Confirm that Python and your conda environment are working properly by running the cell below. If you did the installation correctly, this should involve the following:\n",
    "<ol>\n",
    "    <li>Click the triangular \"run\" icon next to the cell.</li>\n",
    "    <li>At the top of your VSC window you will be asked to select a Python environment. Choose the conda environment you just created, <code>mude-base</code></li>\n",
    "    <li>Confirm that the output of the cell is generated as expected.</li>\n",
    "    <li>That's it!</li>\n",
    "</ol>\n",
    "<em>Note that you might also be prompted to install a few VSC extensions, if you did not already do so. Read the message carefully so you know what VSC is installing; however, note that you don't really have to do anything except hit \"yes\" because VSC is pretty good at getting Python to run on your computer.</em>\n",
    "</p>\n",
    "</div>"
   ]
  },
  {
   "cell_type": "code",
   "execution_count": 2,
   "id": "46016f72",
   "metadata": {},
   "outputs": [
    {
     "name": "stdout",
     "output_type": "stream",
     "text": [
      "If you connected to an environment with Python, this sentence will be printed below.\n"
     ]
    }
   ],
   "source": [
    "print('If you connected to an environment with Python,'\n",
    "      ' this sentence will be printed below.')\n",
    "      "
   ]
  },
  {
   "cell_type": "markdown",
   "id": "6c4216c5",
   "metadata": {},
   "source": [
    "\n",
    "## Part 1: What is a Dictionary?\n",
    "\n",
    "When getting started, if you are simply _using_ dictionaries (we will write them later), there are really only a few fundamental things to know about a dictionary:\n",
    "1. It is a Python data type that stores key-value pairs.\n",
    "2. It is common to define a _key_ as a string (e.g., `'this is a string'`)\n",
    "3. The _value_ can be almost anything. \n",
    "4. It uses a syntax with square brackets to get the _value_ associated with a given _key_.\n"
   ]
  },
  {
   "cell_type": "markdown",
   "id": "5e5038e5",
   "metadata": {},
   "source": [
    "<div style=\"background-color:#AABAB2; color: black; vertical-align: middle; padding:15px; margin: 10px; border-radius: 10px; width: 95%\">\n",
    "<p>\n",
    "<b>Task 1.1:</b>   \n",
    "run the cell below to see what happens when you define a dictionary and then print it.\n",
    "</p>\n",
    "</div>"
   ]
  },
  {
   "cell_type": "code",
   "execution_count": 3,
   "id": "af0346a6",
   "metadata": {},
   "outputs": [
    {
     "name": "stdout",
     "output_type": "stream",
     "text": [
      "{'key1': 'value1', 'key2': 'value2'}\n"
     ]
    }
   ],
   "source": [
    "test_dictionary = {'key1': 'value1', 'key2': 'value2'}\n",
    "print(test_dictionary)"
   ]
  },
  {
   "cell_type": "markdown",
   "id": "1ed9db40",
   "metadata": {},
   "source": [
    "To access the value, you can use the following syntax:\n",
    "\n",
    "```\n",
    "test_dictionary['KEY']\n",
    "```"
   ]
  },
  {
   "cell_type": "markdown",
   "id": "f5905dd1",
   "metadata": {},
   "source": [
    "<div style=\"background-color:#AABAB2; color: black; vertical-align: middle; padding:15px; margin: 10px; border-radius: 10px; width: 95%\">\n",
    "<p>\n",
    "<b>Task 1.2:</b>   \n",
    "run the cell below to access the value for <code>key2</code>.\n",
    "</p>\n",
    "</div>"
   ]
  },
  {
   "cell_type": "code",
   "execution_count": 4,
   "id": "33878a0a",
   "metadata": {},
   "outputs": [
    {
     "data": {
      "text/plain": [
       "'value2'"
      ]
     },
     "execution_count": 4,
     "metadata": {},
     "output_type": "execute_result"
    }
   ],
   "source": [
    "test_dictionary['key2']"
   ]
  },
  {
   "cell_type": "markdown",
   "id": "d4cc0df0",
   "metadata": {},
   "source": [
    "<div style=\"background-color:#AABAB2; color: black; vertical-align: middle; padding:15px; margin: 10px; border-radius: 10px; width: 95%\">\n",
    "<p>\n",
    "<b>Task 1.3:</b>   \n",
    "run the cell below to access add a key-value pair for <code>key3</code>.\n",
    "</p>\n",
    "</div>"
   ]
  },
  {
   "cell_type": "code",
   "execution_count": 6,
   "id": "cfdbcfbf",
   "metadata": {},
   "outputs": [
    {
     "name": "stdout",
     "output_type": "stream",
     "text": [
      "3\n"
     ]
    }
   ],
   "source": [
    "test_dictionary['key3'] = '3'\n",
    "print(test_dictionary['key3'])"
   ]
  },
  {
   "cell_type": "markdown",
   "id": "948fe1f6",
   "metadata": {},
   "source": [
    "That's it! Now you are ready to start using a dictionary with \"real\" data!"
   ]
  },
  {
   "cell_type": "markdown",
   "id": "15fddde1",
   "metadata": {},
   "source": [
    "## Part 2: Using a dictionary with \"real\" data\n",
    "\n",
    "In this part we illustrate how easy it is to load text-based files into notebooks, then operate on them with Python code."
   ]
  },
  {
   "cell_type": "markdown",
   "id": "c44dc7e4",
   "metadata": {},
   "source": [
    "<div style=\"background-color:#AABAB2; color: black; vertical-align: middle; padding:15px; margin: 10px; border-radius: 10px; width: 95%\">\n",
    "<p>\n",
    "<b>Task 2.1:</b>   \n",
    "open up the contents of the file <code>catchme.py</code> and <b>read</b> it. This file defines a dictionary called <code>data</code>, which we will import into our notebook and access the content by running the cell below.\n",
    "</p>\n",
    "</div>"
   ]
  },
  {
   "cell_type": "code",
   "execution_count": 7,
   "id": "a0e30b2c",
   "metadata": {},
   "outputs": [],
   "source": [
    "import catchme\n",
    "data = catchme.data"
   ]
  },
  {
   "cell_type": "markdown",
   "id": "583d6654",
   "metadata": {},
   "source": [
    "<div style=\"background-color:#AABAB2; color: black; vertical-align: middle; padding:15px; margin: 10px; border-radius: 10px; width: 95%\">\n",
    "<p>\n",
    "<b>Task 2.2:</b>   \n",
    "If the cell above ran without error, you should be use the dictionary <code>data</code> in exactly the same way as <code>test_dictionary</code>. To check whether you understand how a dictionary works, see if you can print the <em>value</em> for the <em>species</em> of this \"thing\" in the dictionary.\n",
    "</p>\n",
    "</div>"
   ]
  },
  {
   "cell_type": "code",
   "execution_count": 12,
   "id": "1dd07209",
   "metadata": {},
   "outputs": [
    {
     "data": {
      "text/plain": [
       "'Seed Pokemon'"
      ]
     },
     "execution_count": 12,
     "metadata": {},
     "output_type": "execute_result"
    }
   ],
   "source": [
    "data['species']"
   ]
  },
  {
   "cell_type": "markdown",
   "id": "a1f56c52",
   "metadata": {},
   "source": [
    "**That's it!** This was a short PA...later ones will be longer."
   ]
  },
  {
   "cell_type": "markdown",
   "id": "2e4617c0",
   "metadata": {},
   "source": [
    "**End of notebook.**\n",
    "<h2 style=\"height: 60px\">\n",
    "</h2>\n",
    "<h3 style=\"position: absolute; display: flex; flex-grow: 0; flex-shrink: 0; flex-direction: row-reverse; bottom: 60px; right: 50px; margin: 0; border: 0\">\n",
    "    <style>\n",
    "        .markdown {width:100%; position: relative}\n",
    "        article { position: relative }\n",
    "    </style>\n",
    "    <a rel=\"license\" href=\"http://creativecommons.org/licenses/by-nc-sa/4.0/\">\n",
    "      <img alt=\"Creative Commons License\" style=\"border-width:; width:88px; height:auto; padding-top:10px\" src=\"https://i.creativecommons.org/l/by-nc-sa/4.0/88x31.png\" />\n",
    "    </a>\n",
    "    <a rel=\"TU Delft\" href=\"https://www.tudelft.nl/en/ceg\">\n",
    "      <img alt=\"TU Delft\" style=\"border-width:0; width:100px; height:auto; padding-bottom:0px\" src=\"https://gitlab.tudelft.nl/mude/public/-/raw/main/tu-logo/TU_P1_full-color.png\" />\n",
    "    </a>\n",
    "    <a rel=\"MUDE\" href=\"http://mude.citg.tudelft.nl/\">\n",
    "      <img alt=\"MUDE\" style=\"border-width:0; width:100px; height:auto; padding-bottom:0px\" src=\"https://gitlab.tudelft.nl/mude/public/-/raw/main/mude-logo/MUDE_Logo-small.png\" />\n",
    "    </a>\n",
    "    \n",
    "</h3>\n",
    "<span style=\"font-size: 75%\">\n",
    "&copy; Copyright 2024 <a rel=\"MUDE\" href=\"http://mude.citg.tudelft.nl/\">MUDE</a> TU Delft. This work is licensed under a <a rel=\"license\" href=\"http://creativecommons.org/licenses/by/4.0/\">CC BY 4.0 License</a>."
   ]
  }
 ],
 "metadata": {
  "kernelspec": {
   "display_name": "Python 3 (ipykernel)",
   "language": "python",
   "name": "python3"
  },
  "language_info": {
   "codemirror_mode": {
    "name": "ipython",
    "version": 3
   },
   "file_extension": ".py",
   "mimetype": "text/x-python",
   "name": "python",
   "nbconvert_exporter": "python",
   "pygments_lexer": "ipython3",
   "version": "3.9.13"
  }
 },
 "nbformat": 4,
 "nbformat_minor": 5
}
